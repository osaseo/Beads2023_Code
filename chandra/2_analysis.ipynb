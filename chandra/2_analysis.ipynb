{
 "cells": [
  {
   "attachments": {},
   "cell_type": "markdown",
   "metadata": {},
   "source": [
    "### 2. Imaging the Chandra Data in a Variety of Ways\n",
    "\n",
    "Using ObsIDS `18689` and `17218`, this notebook creates:\n",
    "1. `Quantify size of wings in surface brightness image`\n",
    "2. `If space between wings is a cavity, how much heat injected?`\n",
    "3. \n",
    "\n"
   ]
  },
  {
   "cell_type": "code",
   "execution_count": 1,
   "metadata": {},
   "outputs": [],
   "source": [
    "path_to_beads = '/Users/osaseomoruyi/Dropbox (Harvard University)/BeadsMultiwavelength/'"
   ]
  },
  {
   "cell_type": "code",
   "execution_count": 2,
   "metadata": {},
   "outputs": [],
   "source": [
    "#system\n",
    "from __future__ import division\n",
    "import sys\n",
    "\n",
    "#numpy\n",
    "import numpy as np\n",
    "\n",
    "import h5py\n",
    "\n",
    "#matplotlib\n",
    "import matplotlib.pyplot as plt\n",
    "from matplotlib.gridspec import GridSpec\n",
    "from matplotlib import cm\n",
    "from matplotlib.colors import ListedColormap\n",
    "from palettable.colorbrewer.qualitative import Set1_4 as brewermap\n",
    "%matplotlib inline\n",
    "\n",
    "\n",
    "#astropy\n",
    "from astropy.wcs import WCS\n",
    "import astropy.units as u\n",
    "import astropy.constants as const\n",
    "from astropy.cosmology import LambdaCDM\n",
    "from astropy.coordinates import Angle\n",
    "\n",
    "#pandas\n",
    "import pandas as pd\n",
    "\n",
    "#scipy\n",
    "import scipy\n",
    "\n",
    "#seaborn\n",
    "import seaborn as sns \n",
    "\n",
    "import importlib\n"
   ]
  },
  {
   "cell_type": "code",
   "execution_count": 3,
   "metadata": {},
   "outputs": [],
   "source": [
    "#import my own functions: you can see them in full in the utils folder\n",
    "util_path = path_to_beads + 'Notebooks/Beads20/utils/'\n",
    "sys.path.append(util_path)\n",
    "\n",
    "import plotting_functions as pf\n",
    "import science_functions as sf"
   ]
  },
  {
   "cell_type": "code",
   "execution_count": 4,
   "metadata": {},
   "outputs": [
    {
     "data": {
      "text/plain": [
       "<module 'plotting_functions' from '/Users/osaseomoruyi/Dropbox (Harvard University)/BeadsMultiwavelength/Notebooks/Beads20/utils/plotting_functions.py'>"
      ]
     },
     "execution_count": 4,
     "metadata": {},
     "output_type": "execute_result"
    }
   ],
   "source": [
    "#uncomment if need to reload module\n",
    "importlib.reload(pf)"
   ]
  },
  {
   "cell_type": "code",
   "execution_count": 5,
   "metadata": {},
   "outputs": [],
   "source": [
    "#paths\n",
    "fig_path = path_to_beads + 'Figures/paper/'\n",
    "chandra_data_directory = '/Users/osaseomoruyi/chandra/alternate_tmap/alternate_spectral_maps_working_dir/merged/'\n",
    "other_chandra_path = '/Users/osaseomoruyi/chandra/merged/'"
   ]
  },
  {
   "cell_type": "code",
   "execution_count": 6,
   "metadata": {},
   "outputs": [],
   "source": [
    "#About my galaxy cluster\n",
    "name = 'SDSS J1531+3414'\n",
    "ra = 232.7936938\n",
    "dec = 34.2404172\n",
    "radius = Angle(2.5, u.arcsec)\n",
    "\n",
    "zh  = 0.335 #z selected from Hennawi (2008)\n",
    "cz = zh * const.c.to('km/s') # The stellar systemic velocity that we'll subtract off of our velocity maps. I always use Astropy Units - read up on them if you're not famililar!\n",
    "\n",
    "cosmo = LambdaCDM(H0=71, Om0=0.27, Ode0=0.73)\n",
    "da = cosmo.angular_diameter_distance(zh)\n",
    "dl = cosmo.luminosity_distance(zh)\n",
    "\n",
    "angular_diameter_distance = cosmo.angular_diameter_distance(z=zh) # in Mpc\n",
    "kpc_per_arcsec = cosmo.kpc_proper_per_arcmin(z=zh).to(u.kpc / u.arcsec)"
   ]
  },
  {
   "cell_type": "code",
   "execution_count": 7,
   "metadata": {},
   "outputs": [],
   "source": [
    "#plot style\n",
    "pf.styleplots()"
   ]
  },
  {
   "cell_type": "markdown",
   "metadata": {},
   "source": [
    "### Load Data"
   ]
  },
  {
   "cell_type": "code",
   "execution_count": 8,
   "metadata": {},
   "outputs": [],
   "source": [
    "chandra_smoothed_file = ''.join((chandra_data_directory, 'broad_flux_g1.img'))\n",
    "chandra_soft_file = ''.join((chandra_data_directory, 'soft_flux.img'))\n",
    "chandra_medium_file = ''.join((chandra_data_directory, 'medium_flux.img'))\n",
    "chandra_hard_file = ''.join((chandra_data_directory, 'hard_flux.img'))\n",
    "\n",
    "chandra_wavelet_file = ''.join((path_to_beads, 'Analysis/chandraBeads/wavelet_fit/beads_lynx_img.fits'))\n",
    "chandra_raw_file = ''.join((path_to_beads, 'Analysis/chandraBeads/merged/beads_xray_bin2_broad_flux.img'))\n",
    "\n",
    "chandra_unsharp_mask_file = ''.join((other_chandra_path, 'bin2_broad_flux_unsharpmask.img'))\n",
    "chandra_g1_file = ''.join((other_chandra_path, 'bin2_broad_flux_g098.img'))\n",
    "chandra_g10_file = ''.join((other_chandra_path, 'bin2_broad_flux_g98.img'))"
   ]
  },
  {
   "cell_type": "code",
   "execution_count": 9,
   "metadata": {},
   "outputs": [],
   "source": [
    "csmooth_hdu, csmooth_hdr, csmooth_wcs = pf.open_fits(chandra_smoothed_file)\n",
    "craw_hdu, craw_hdr, craw_wcs = pf.open_fits(chandra_raw_file)\n",
    "\n",
    "csoft_hdu, csoft_hdr, csoft_wcs = pf.open_fits(chandra_soft_file)\n",
    "cmed_hdu, cmed_hdr, cmed_wcs = pf.open_fits(chandra_medium_file)\n",
    "chrd_hdu, chrd_hdr, chrd_wcs = pf.open_fits(chandra_hard_file)\n",
    "\n",
    "cwav_hdu, cwav_hdr, cwav_wcs = pf.open_fits(chandra_wavelet_file)\n",
    "\n",
    "cun_msk_hdu, cun_msk_hdr, cun_msk_wcs = pf.open_fits(chandra_unsharp_mask_file)\n",
    "cg1_hdu, cg1_hdr, cg1_wcs = pf.open_fits(chandra_g1_file )\n",
    "cg10_hdu, cg10_hdr, cg10_wcs = pf.open_fits(chandra_g10_file )"
   ]
  },
  {
   "cell_type": "code",
   "execution_count": 10,
   "metadata": {},
   "outputs": [],
   "source": [
    "#plot HST on top\n",
    "hst_hdr, hst_wcs, hst_hdu = sf.load_HST_data(path_to_beads)\n",
    "ysc_coords = sf.ysc_load(path_to_beads)\n",
    "hst_cont_color, ysc_color = 'k', 'cyan'"
   ]
  },
  {
   "cell_type": "markdown",
   "metadata": {},
   "source": [
    "### 6. Quantify size of wings in surface brightness image"
   ]
  },
  {
   "cell_type": "code",
   "execution_count": null,
   "metadata": {},
   "outputs": [],
   "source": [
    "#ds9 \n",
    "# left wing is 6.721\"\n",
    "# right wing is 4.546\" "
   ]
  },
  {
   "cell_type": "code",
   "execution_count": 42,
   "metadata": {},
   "outputs": [
    {
     "data": {
      "image/png": "[encoded data removed]",
      "text/plain": [
       "<Figure size 720x576 with 2 Axes>"
      ]
     },
     "metadata": {
      "needs_background": "light"
     },
     "output_type": "display_data"
    }
   ],
   "source": [
    "#draw\n",
    "fig = plt.figure(figsize=(10, 8))\n",
    "gs1 = GridSpec(1, 1)\n",
    "\n",
    "cmap=sns.color_palette(\"rocket\", as_cmap=True)\n",
    "chandra_zoom = [232.7940588,34.2402090, 10 * u.arcsec]\n",
    "\n",
    "clims=[[0, 500]]\n",
    "data_maps = [cwav_hdu.data]\n",
    "axs = []\n",
    "\n",
    "for id_subplot in range(1):\n",
    "    clim = clims[id_subplot]\n",
    "    data = data_maps[id_subplot]\n",
    "\n",
    "    ax = fig.add_subplot(gs1[id_subplot], projection=WCS(cwav_hdr))\n",
    "\n",
    "    ax, cb = pf.ax_fits_map(hdu=None, data=data, hdr=cwav_hdr,\n",
    "                        vmin=clim[0], vmax=clim[1], cmap=cmap, \n",
    "                        coords=chandra_zoom, ax=ax, contour=False, \n",
    "                        clip=None, lw=5, location='bottom')\n",
    "\n",
    "    #HST Contours: uncomment below lines if not in rush\n",
    "    # pf.overlay(ax, hst_hdu, 1, vmin=0., vmax=0.5, nlev=10, contours=True, \n",
    "    #             cont_color='cyan', lw=1)\n",
    "    ax.axis('off')"
   ]
  },
  {
   "cell_type": "code",
   "execution_count": 44,
   "metadata": {},
   "outputs": [],
   "source": [
    "right_wing_kpc = 4.546 * u.arcsec * kpc_per_arcsec\n",
    "left_wing_kpc = 6.721 * u.arcsec * kpc_per_arcsec"
   ]
  },
  {
   "cell_type": "code",
   "execution_count": 45,
   "metadata": {},
   "outputs": [
    {
     "name": "stdout",
     "output_type": "stream",
     "text": [
      "Right wing length: 21.67 kpc\n",
      "Left wing length: 32.04 kpc\n"
     ]
    }
   ],
   "source": [
    "print(\"Right wing length: {:.2f}\".format(right_wing_kpc))\n",
    "print(\"Left wing length: {:.2f}\".format(left_wing_kpc))"
   ]
  },
  {
   "attachments": {},
   "cell_type": "markdown",
   "metadata": {},
   "source": [
    "### 7. If space ebtween wings is a cavity, was the heat released enoug to mitgate ICM cooling?"
   ]
  },
  {
   "cell_type": "code",
   "execution_count": 9,
   "metadata": {},
   "outputs": [],
   "source": [
    "specfit_savepath = path_to_beads + 'Analysis/chandraBeads/ciao_spectra_results/'\n",
    "cel_flux = np.load(specfit_savepath + 'cf_60.npy')\n",
    "cel_flux_err = np.load(specfit_savepath + 'cf_err_60.npy')\n",
    "\n",
    "flux = np.load(specfit_savepath + 'flux_60.npy')\n",
    "flux_err = np.load(specfit_savepath + 'flux_err_60.npy')"
   ]
  },
  {
   "cell_type": "code",
   "execution_count": 10,
   "metadata": {},
   "outputs": [],
   "source": [
    "#KT and norm\n",
    "kTs = np.load(specfit_savepath + 'kTs_60.npy') * u.keV\n",
    "kT_errs = np.load(specfit_savepath + 'kT_err_60.npy') * u.keV\n",
    "norms = np.load(specfit_savepath + 'norms_60.npy')\n",
    "norm_errs = np.load(specfit_savepath + 'norm_errs_60.npy')\n",
    "\n",
    "\n",
    "radius_df = pd.DataFrame(np.load(specfit_savepath + 'radius_60.npy'), columns=['radius', \n",
    "                            'radius_err', 'r_inner', 'r_outer'])\n",
    "\n",
    "r_inner_in_kpc = radius_df['r_inner'].to_numpy() * u.kpc \n",
    "r_outer_in_kpc = radius_df['r_outer'].to_numpy() * u.kpc \n",
    "radius_to_plot = radius_df['radius'].to_numpy() * u.kpc \n",
    "radius_err_to_plot = radius_df['radius_err'].to_numpy() * u.kpc \n",
    "\n",
    "volume = (4/3) * scipy.pi * (r_outer_in_kpc**3 - r_inner_in_kpc**3)\n",
    "\n",
    "#electron density\n",
    "electron_density = np.sqrt((norms * u.cm**-5 * 4 * np.pi * \n",
    "                            np.power(angular_diameter_distance.to(u.cm) * (1 + zh), 2)) \n",
    "                            / (1.e-14 * 0.82 * volume.to(u.cm**3))) \n",
    "electron_density_err = electron_density / (2*norms) * norm_errs\n",
    "\n",
    "#pressure\n",
    "pressure = (2 * electron_density * kTs).to(u.dyne/u.cm**2)\n",
    "pressure_err  = pressure * sf.dm_error_prop([electron_density, kTs], [electron_density_err, kT_errs])\n",
    "\n",
    "#entropy\n",
    "entropy  = kTs * np.power(electron_density, -2.0/3.0)\n",
    "entropy_err = entropy * sf.dm_error_prop([kTs.value, np.power(electron_density, -2/3).value], \n",
    "                [kT_errs.value, sf.exp_error_prop(electron_density, electron_density_err, -2/3) ])\n",
    "\n",
    "#cooling time\n",
    "cooling_time = sf.tcool(electron_density, kTs)\n",
    "cool_func_err = sf.dm_error_prop([kTs**-1.7, kTs**0.5], [sf.exp_error_prop(kTs, kT_errs, -1.7), \n",
    "                    sf.exp_error_prop(kTs, kT_errs, 0.5)]) * sf.coolingFunction(kTs)\n",
    "\n",
    "cooling_time_err = cooling_time * sf.dm_error_prop([pressure.value, np.power(electron_density, 2).value, sf.coolingFunction(kTs).value],\n",
    "                    [pressure_err.value, sf.exp_error_prop(electron_density, electron_density_err, 2).value, cool_func_err])"
   ]
  },
  {
   "cell_type": "code",
   "execution_count": 11,
   "metadata": {},
   "outputs": [
    {
     "name": "stderr",
     "output_type": "stream",
     "text": [
      "scipy.log is deprecated and will be removed in SciPy 2.0.0, use numpy.lib.scimath.log instead\n"
     ]
    }
   ],
   "source": [
    "luminosity  = flux * u.erg / u.s / u.cm**2  * 4.0 * np.pi * np.power(cosmo.luminosity_distance(zh), 2) # in erg/s\n",
    "luminosity_err  = luminosity * scipy.log(10) * flux_err"
   ]
  },
  {
   "cell_type": "code",
   "execution_count": 12,
   "metadata": {},
   "outputs": [
    {
     "data": {
      "text/latex": [
       "$4.9846151 \\times 10^{43} \\; \\mathrm{\\frac{erg}{s}}$"
      ],
      "text/plain": [
       "<Quantity 4.98461509e+43 erg / s>"
      ]
     },
     "execution_count": 12,
     "metadata": {},
     "output_type": "execute_result"
    }
   ],
   "source": [
    "luminosity.to(u.erg/u.s)[3]"
   ]
  },
  {
   "cell_type": "code",
   "execution_count": 13,
   "metadata": {},
   "outputs": [
    {
     "data": {
      "text/latex": [
       "$2.4097713 \\; \\mathrm{Gyr}$"
      ],
      "text/plain": [
       "<Quantity 2.40977127 Gyr>"
      ]
     },
     "execution_count": 13,
     "metadata": {},
     "output_type": "execute_result"
    }
   ],
   "source": [
    "cooling_time.to(u.Gyr)[3]"
   ]
  },
  {
   "cell_type": "code",
   "execution_count": 19,
   "metadata": {},
   "outputs": [],
   "source": [
    "def cavity_power(R, radius_cav, pressure_cav, sigma, C=0.75, gamma=5./3., kT=2.3, mu=0.62):\n",
    "    \"\"\"\n",
    "    Calculate the cavity power of an ellipsoidal cavity in the ICM.\n",
    "\n",
    "    Parameters\n",
    "    ----------\n",
    "    R : float\n",
    "        Projected distance from the center of the cavity to the BCG center [kpc].\n",
    "    radius_cav : float\n",
    "        Projected radius of the cavity [kpc].\n",
    "    pressure_cav : float\n",
    "        pressure of outer edges of bubbble\n",
    "    sigma : float\n",
    "        Stellar velocity dispersion of the BCG [km/s].\n",
    "    C : float, optional\n",
    "        Drag coefficient, default to 0.75.\n",
    "\n",
    "    Returns\n",
    "    -------\n",
    "    P_cav : float\n",
    "        Cavity power [erg/s].\n",
    "    \"\"\"\n",
    "    g = 2 * sigma**2 / R  # Gravitational acceleration [cm/s^2]\n",
    "    S =   4 * np.pi * radius_cav**2 #cross sectional area of cavity\n",
    "    V = 4 * np.pi * radius_cav**3 #volume cavity\n",
    " \n",
    "    v_sound = np.sqrt(2*g*V/(C*S)) #np.sqrt(gamma * (kT*u.keV)/(mu * const.m_p))\n",
    "    print(v_sound.to(u.km/u.s))\n",
    "    t_cav = R /v_sound   # Cavity age [s]\n",
    "    #print(t_cav.to(u.year))\n",
    "    E_cav = 4 * pressure_cav * V  # Cavity energy [erg]\n",
    "    P_cav = E_cav / t_cav  # Cavity power [erg/s]\n",
    "    \n",
    "    return P_cav.to(u.erg/u.s)\n"
   ]
  },
  {
   "cell_type": "code",
   "execution_count": 20,
   "metadata": {},
   "outputs": [
    {
     "name": "stdout",
     "output_type": "stream",
     "text": [
      "1874.0220860920776 km / s\n",
      "1874.0220860920776 km / s\n",
      "3.488197335957573e+45 erg / s 5.01605306801597e+43 erg / s\n"
     ]
    }
   ],
   "source": [
    "radius_cavity = 2.868 * u.arcsec * kpc_per_arcsec\n",
    "distance_to_cavity = 4.338 * u.arcsec * kpc_per_arcsec #20.6 kpc\n",
    "pressure_cavity = pressure[2] #annulus that contains distance to cavity\n",
    "pressure_cavity_err = pressure_err[2]\n",
    "sigma = 998 * u.km/u.s #bayliss 2011\n",
    "\n",
    "power_cavity = cavity_power(distance_to_cavity, radius_cavity, pressure_cavity, sigma)\n",
    "power_cavity_err = cavity_power(distance_to_cavity, radius_cavity, pressure_cavity_err, sigma)\n",
    "print(power_cavity, power_cavity_err)"
   ]
  },
  {
   "cell_type": "code",
   "execution_count": 46,
   "metadata": {},
   "outputs": [],
   "source": [
    "total_cav_energy = power_cavity * cosmo.age(zh)"
   ]
  },
  {
   "cell_type": "code",
   "execution_count": 48,
   "metadata": {},
   "outputs": [
    {
     "data": {
      "text/latex": [
       "$1.096863 \\times 10^{63} \\; \\mathrm{erg}$"
      ],
      "text/plain": [
       "<Quantity 1.096863e+63 erg>"
      ]
     },
     "execution_count": 48,
     "metadata": {},
     "output_type": "execute_result"
    }
   ],
   "source": [
    "total_cav_energy.cgs"
   ]
  },
  {
   "cell_type": "code",
   "execution_count": null,
   "metadata": {},
   "outputs": [],
   "source": []
  },
  {
   "cell_type": "code",
   "execution_count": 43,
   "metadata": {},
   "outputs": [
    {
     "data": {
      "text/latex": [
       "$3.1470117 \\times 10^{-10} \\; \\mathrm{\\frac{dyn}{cm^{2}}}$"
      ],
      "text/plain": [
       "<Quantity 3.1470117e-10 dyn / cm2>"
      ]
     },
     "execution_count": 43,
     "metadata": {},
     "output_type": "execute_result"
    }
   ],
   "source": [
    "pressure_cavity"
   ]
  },
  {
   "cell_type": "code",
   "execution_count": 75,
   "metadata": {},
   "outputs": [],
   "source": [
    "energy_cavity = 4 * pressure_cavity * volume_cavity"
   ]
  },
  {
   "cell_type": "code",
   "execution_count": 87,
   "metadata": {},
   "outputs": [],
   "source": [
    "vstar = 350 * u.km/u.s\n",
    "grav_accel = 2 * np.power(vstar, 2)/R_cavity\n",
    "v_terminal = np.sqrt((2 * grav_accel * volume_cavity)/(0.75 * area_cavity))"
   ]
  },
  {
   "cell_type": "code",
   "execution_count": 88,
   "metadata": {},
   "outputs": [],
   "source": [
    "t_cavity = R_cavity/v_terminal\n",
    "e_cavity = 4 * pressure_cavity * volume_cavity"
   ]
  },
  {
   "cell_type": "code",
   "execution_count": 90,
   "metadata": {},
   "outputs": [
    {
     "data": {
      "text/latex": [
       "$5.07835 \\; \\mathrm{yr}$"
      ],
      "text/plain": [
       "<Quantity 5.07834999 yr>"
      ]
     },
     "execution_count": 90,
     "metadata": {},
     "output_type": "execute_result"
    }
   ],
   "source": [
    "t_cavity.to(u.year)/1e7"
   ]
  },
  {
   "cell_type": "code",
   "execution_count": 91,
   "metadata": {},
   "outputs": [
    {
     "data": {
      "text/latex": [
       "$3.1901379 \\times 10^{59} \\; \\mathrm{erg}$"
      ],
      "text/plain": [
       "<Quantity 3.19013791e+59 erg>"
      ]
     },
     "execution_count": 91,
     "metadata": {},
     "output_type": "execute_result"
    }
   ],
   "source": [
    "energy_cavity.cgs"
   ]
  },
  {
   "cell_type": "code",
   "execution_count": 92,
   "metadata": {},
   "outputs": [],
   "source": [
    "power_cavity = energy_cavity/t_cavity"
   ]
  },
  {
   "cell_type": "code",
   "execution_count": 93,
   "metadata": {},
   "outputs": [
    {
     "data": {
      "text/latex": [
       "$1.9905948 \\times 10^{44} \\; \\mathrm{\\frac{erg}{s}}$"
      ],
      "text/plain": [
       "<Quantity 1.99059479e+44 erg / s>"
      ]
     },
     "execution_count": 93,
     "metadata": {},
     "output_type": "execute_result"
    }
   ],
   "source": [
    "power_cavity.cgs"
   ]
  },
  {
   "cell_type": "code",
   "execution_count": 94,
   "metadata": {},
   "outputs": [
    {
     "data": {
      "text/latex": [
       "$3.1470117 \\times 10^{-10} \\; \\mathrm{\\frac{dyn}{cm^{2}}}$"
      ],
      "text/plain": [
       "<Quantity 3.1470117e-10 dyn / cm2>"
      ]
     },
     "execution_count": 94,
     "metadata": {},
     "output_type": "execute_result"
    }
   ],
   "source": [
    "pressure_cavity"
   ]
  },
  {
   "cell_type": "code",
   "execution_count": 95,
   "metadata": {},
   "outputs": [
    {
     "data": {
      "text/plain": [
       "4.393398282201788"
      ]
     },
     "execution_count": 95,
     "metadata": {},
     "output_type": "execute_result"
    }
   ],
   "source": [
    "15/(2 + np.sqrt(2))"
   ]
  },
  {
   "cell_type": "code",
   "execution_count": 21,
   "metadata": {},
   "outputs": [],
   "source": [
    "m500 = 1.9e14 * u.solMass\n",
    "r500 = 779 * u.kpc\n",
    "g = ((m500 * const.G)/r500**2)"
   ]
  },
  {
   "cell_type": "code",
   "execution_count": 22,
   "metadata": {},
   "outputs": [],
   "source": [
    "t_cavity = 1 * np.sqrt(np.sqrt(a_cavity * b_cavity)/g)"
   ]
  },
  {
   "cell_type": "code",
   "execution_count": 23,
   "metadata": {},
   "outputs": [],
   "source": [
    "power_cavity = enthalpy_cavity/t_cavity"
   ]
  },
  {
   "cell_type": "code",
   "execution_count": 24,
   "metadata": {},
   "outputs": [
    {
     "data": {
      "text/latex": [
       "$1.6551313 \\times 10^{37} \\; \\mathrm{\\frac{erg}{s}}$"
      ],
      "text/plain": [
       "<Quantity 1.65513128e+37 erg / s>"
      ]
     },
     "execution_count": 24,
     "metadata": {},
     "output_type": "execute_result"
    }
   ],
   "source": [
    "power_cavity.cgs"
   ]
  },
  {
   "cell_type": "markdown",
   "metadata": {},
   "source": [
    "8. Counts per annulus\n",
    "\n",
    "dmlist \"v17218_flux_rprofile.fits[HISTOGRAM][cols counts,net_counts]\" data"
   ]
  },
  {
   "cell_type": "code",
   "execution_count": null,
   "metadata": {},
   "outputs": [],
   "source": []
  },
  {
   "cell_type": "code",
   "execution_count": null,
   "metadata": {},
   "outputs": [],
   "source": []
  }
 ],
 "metadata": {
  "kernelspec": {
   "display_name": "Python 3.8.12 ('base')",
   "language": "python",
   "name": "python3"
  },
  "language_info": {
   "codemirror_mode": {
    "name": "ipython",
    "version": 3
   },
   "file_extension": ".py",
   "mimetype": "text/x-python",
   "name": "python",
   "nbconvert_exporter": "python",
   "pygments_lexer": "ipython3",
   "version": "3.8.13"
  },
  "orig_nbformat": 4,
  "vscode": {
   "interpreter": {
    "hash": "bab9909fa8cbd9df8527ebea13a688d7db2f84a2f9272dffc6345519c385bbf9"
   }
  }
 },
 "nbformat": 4,
 "nbformat_minor": 2
}
