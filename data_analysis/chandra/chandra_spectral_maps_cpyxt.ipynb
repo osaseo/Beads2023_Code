{
 "cells": [
  {
   "attachments": {},
   "cell_type": "markdown",
   "id": "3481af2a",
   "metadata": {},
   "source": [
    "### Visualize X-ray Spectral Maps from ClusterPyXT\n",
    "\n",
    "1. Inputs to ClusterPyXT\n",
    "2. Temprature, pressure and entropy maps"
   ]
  },
  {
   "cell_type": "code",
   "execution_count": 1,
   "id": "31069992",
   "metadata": {},
   "outputs": [],
   "source": [
    "path_to_beads = '/Users/osaseomoruyi/Dropbox (Harvard University)/BeadsMultiwavelength/'"
   ]
  },
  {
   "cell_type": "code",
   "execution_count": 2,
   "id": "ad176d26",
   "metadata": {},
   "outputs": [],
   "source": [
    "#system\n",
    "from __future__ import division\n",
    "import sys\n",
    "\n",
    "#numpy\n",
    "import numpy as np\n",
    "\n",
    "import h5py\n",
    "\n",
    "#matplotlib\n",
    "import matplotlib.pyplot as plt\n",
    "from matplotlib.gridspec import GridSpec\n",
    "from matplotlib import cm\n",
    "from matplotlib.colors import ListedColormap\n",
    "from palettable.colorbrewer.qualitative import Set1_4 as brewermap\n",
    "%matplotlib inline\n",
    "\n",
    "\n",
    "#astropy\n",
    "from astropy.wcs import WCS\n",
    "import astropy.units as u\n",
    "import astropy.constants as const\n",
    "from astropy.cosmology import LambdaCDM\n",
    "from astropy.coordinates import Angle\n",
    "\n",
    "#pandas\n",
    "import pandas as pd\n",
    "\n",
    "#scipy\n",
    "import scipy\n",
    "\n",
    "#seaborn\n",
    "import seaborn as sns \n",
    "\n",
    "import importlib\n"
   ]
  },
  {
   "cell_type": "code",
   "execution_count": 3,
   "id": "6ebbd3e4",
   "metadata": {},
   "outputs": [],
   "source": [
    "#import my own functions: you can see them in full in the utils folder\n",
    "util_path = path_to_beads + 'Notebooks/Beads20/utils/'\n",
    "sys.path.append(util_path)\n",
    "\n",
    "import plotting_functions as pf\n",
    "import science_functions as sf"
   ]
  },
  {
   "cell_type": "code",
   "execution_count": 4,
   "id": "7347ef98",
   "metadata": {},
   "outputs": [
    {
     "data": {
      "text/plain": [
       "<module 'plotting_functions' from '/Users/osaseomoruyi/Dropbox (Harvard University)/BeadsMultiwavelength/Notebooks/Beads20/utils/plotting_functions.py'>"
      ]
     },
     "execution_count": 4,
     "metadata": {},
     "output_type": "execute_result"
    }
   ],
   "source": [
    "#uncomment if need to reload module\n",
    "importlib.reload(pf)"
   ]
  },
  {
   "cell_type": "code",
   "execution_count": 5,
   "id": "fa78ab5a",
   "metadata": {},
   "outputs": [],
   "source": [
    "#About my galaxy cluster\n",
    "name = 'SDSS J1531+3414'\n",
    "ra = 232.7936938\n",
    "dec = 34.2404172\n",
    "radius = Angle(2.5, u.arcsec)\n",
    "\n",
    "zh  = 0.335 #z selected from Hennawi (2008)\n",
    "cz = zh * const.c.to('km/s') # The stellar systemic velocity that we'll subtract off of our velocity maps. I always use Astropy Units - read up on them if you're not famililar!\n",
    "\n",
    "cosmo = LambdaCDM(H0=71, Om0=0.27, Ode0=0.73)\n",
    "da = cosmo.angular_diameter_distance(zh)\n",
    "dl = cosmo.luminosity_distance(zh)\n",
    "\n",
    "angular_diameter_distance = cosmo.angular_diameter_distance(z=zh) # in Mpc\n",
    "kpc_per_arcsec = cosmo.kpc_proper_per_arcmin(z=zh).to(u.kpc / u.arcsec)"
   ]
  },
  {
   "cell_type": "code",
   "execution_count": 6,
   "id": "ce6f1e9b",
   "metadata": {},
   "outputs": [],
   "source": [
    "#plot style\n",
    "pf.styleplots()"
   ]
  },
  {
   "cell_type": "code",
   "execution_count": 7,
   "id": "0bbb27b7",
   "metadata": {},
   "outputs": [],
   "source": [
    "#paths\n",
    "chandra_data_directory = '/Users/osaseomoruyi/chandra/alternate_tmap/alternate_spectral_maps_working_dir/merged/'\n",
    "other_chandra_path = '/Users/osaseomoruyi/chandra/merged/'"
   ]
  },
  {
   "attachments": {},
   "cell_type": "markdown",
   "id": "3b9ed1dc",
   "metadata": {},
   "source": [
    "### 1. Inputs to ClusterPyXT"
   ]
  },
  {
   "cell_type": "code",
   "execution_count": 8,
   "id": "15dae2a8",
   "metadata": {},
   "outputs": [],
   "source": [
    "cpxt_path = path_to_beads + 'Analysis/chandraBeads/profiles_by_hand/final_clusterpyxt_maps/'\n",
    "\n",
    "cpxt_sb = cpxt_path + 'SDSS1531_FINAL_xray_surface_brightness_cropped.fits'"
   ]
  },
  {
   "cell_type": "code",
   "execution_count": 9,
   "id": "f33dc6d4",
   "metadata": {},
   "outputs": [
    {
     "name": "stderr",
     "output_type": "stream",
     "text": [
      "\"is\" with a literal. Did you mean \"==\"?\n",
      "\"is\" with a literal. Did you mean \"==\"?\n",
      "\"is\" with a literal. Did you mean \"==\"?\n",
      "\"is\" with a literal. Did you mean \"==\"?\n",
      "\"is\" with a literal. Did you mean \"==\"?\n",
      "\"is\" with a literal. Did you mean \"==\"?\n",
      "\"is\" with a literal. Did you mean \"==\"?\n",
      "\"is\" with a literal. Did you mean \"==\"?\n",
      "\"is\" with a literal. Did you mean \"==\"?\n",
      "\"is\" with a literal. Did you mean \"==\"?\n",
      "\"is\" with a literal. Did you mean \"==\"?\n",
      "\"is\" with a literal. Did you mean \"==\"?\n",
      "\"is\" with a literal. Did you mean \"==\"?\n",
      "\"is\" with a literal. Did you mean \"==\"?\n",
      "\"is\" with a literal. Did you mean \"==\"?\n",
      "\"is\" with a literal. Did you mean \"==\"?\n"
     ]
    },
    {
     "ename": "OSError",
     "evalue": "Empty or corrupt FITS file",
     "output_type": "error",
     "traceback": [
      "\u001b[0;31m---------------------------------------------------------------------------\u001b[0m",
      "\u001b[0;31mOSError\u001b[0m                                   Traceback (most recent call last)",
      "\u001b[1;32m/Users/osaseomoruyi/Dropbox (Harvard University)/BeadsMultiwavelength/github/Beads_Paper/data_analysis/chandra/chandra_spectral_maps_cpyxt.ipynb Cell 11\u001b[0m in \u001b[0;36m<cell line: 1>\u001b[0;34m()\u001b[0m\n\u001b[0;32m----> <a href='vscode-notebook-cell://ssh-remote%2Bdhcp-131-142-152-82.cfa.harvard.edu/Users/osaseomoruyi/Dropbox%20%28Harvard%20University%29/BeadsMultiwavelength/github/Beads_Paper/data_analysis/chandra/chandra_spectral_maps_cpyxt.ipynb#X13sdnNjb2RlLXJlbW90ZQ%3D%3D?line=0'>1</a>\u001b[0m hdu, hdr, w \u001b[39m=\u001b[39m pf\u001b[39m.\u001b[39;49mopen_fits(cpxt_sb)\n\u001b[1;32m      <a href='vscode-notebook-cell://ssh-remote%2Bdhcp-131-142-152-82.cfa.harvard.edu/Users/osaseomoruyi/Dropbox%20%28Harvard%20University%29/BeadsMultiwavelength/github/Beads_Paper/data_analysis/chandra/chandra_spectral_maps_cpyxt.ipynb#X13sdnNjb2RlLXJlbW90ZQ%3D%3D?line=1'>2</a>\u001b[0m fig, ax \u001b[39m=\u001b[39m pf\u001b[39m.\u001b[39mplot_fits_map(hdu\u001b[39m.\u001b[39mdata, hdr, cmap\u001b[39m=\u001b[39mcm\u001b[39m.\u001b[39mmagma, vmin \u001b[39m=\u001b[39m \u001b[39m0\u001b[39m, vmax\u001b[39m=\u001b[39m\u001b[39m2e-6\u001b[39m, wcs\u001b[39m=\u001b[39m\u001b[39mNone\u001b[39;00m)\n",
      "File \u001b[0;32m~/Dropbox (Harvard University)/BeadsMultiwavelength/Notebooks/Beads20/utils/plotting_functions.py:411\u001b[0m, in \u001b[0;36mopen_fits\u001b[0;34m(filename, extension, naxis)\u001b[0m\n\u001b[1;32m    399\u001b[0m \u001b[39mdef\u001b[39;00m \u001b[39mopen_fits\u001b[39m(filename, extension\u001b[39m=\u001b[39m\u001b[39m0\u001b[39m, naxis\u001b[39m=\u001b[39m\u001b[39mNone\u001b[39;00m):\n\u001b[1;32m    400\u001b[0m     \u001b[39m\"\"\" Open FITS File\u001b[39;00m\n\u001b[1;32m    401\u001b[0m \n\u001b[1;32m    402\u001b[0m \u001b[39m    Parameters:\u001b[39;00m\n\u001b[0;32m   (...)\u001b[0m\n\u001b[1;32m    408\u001b[0m \u001b[39m        hdu, header, wcs\u001b[39;00m\n\u001b[1;32m    409\u001b[0m \u001b[39m    \"\"\"\u001b[39;00m\n\u001b[0;32m--> 411\u001b[0m     hdu \u001b[39m=\u001b[39m fits\u001b[39m.\u001b[39;49mopen(filename)[extension] \u001b[39m# Open the .fits file, return a list of Header/Data Units (HDUs). \u001b[39;00m\n\u001b[1;32m    412\u001b[0m     hdr \u001b[39m=\u001b[39m hdu\u001b[39m.\u001b[39mheader \u001b[39m#The header of the data fits file and it tells you all technical info.\u001b[39;00m\n\u001b[1;32m    413\u001b[0m     w \u001b[39m=\u001b[39m WCS(hdr, naxis\u001b[39m=\u001b[39mnaxis)\n",
      "File \u001b[0;32m~/opt/anaconda3/lib/python3.9/site-packages/astropy/io/fits/hdu/hdulist.py:175\u001b[0m, in \u001b[0;36mfitsopen\u001b[0;34m(name, mode, memmap, save_backup, cache, lazy_load_hdus, ignore_missing_simple, **kwargs)\u001b[0m\n\u001b[1;32m    172\u001b[0m \u001b[39mif\u001b[39;00m \u001b[39mnot\u001b[39;00m name:\n\u001b[1;32m    173\u001b[0m     \u001b[39mraise\u001b[39;00m \u001b[39mValueError\u001b[39;00m(\u001b[39mf\u001b[39m\u001b[39m'\u001b[39m\u001b[39mEmpty filename: \u001b[39m\u001b[39m{\u001b[39;00mname\u001b[39m!r}\u001b[39;00m\u001b[39m'\u001b[39m)\n\u001b[0;32m--> 175\u001b[0m \u001b[39mreturn\u001b[39;00m HDUList\u001b[39m.\u001b[39;49mfromfile(name, mode, memmap, save_backup, cache,\n\u001b[1;32m    176\u001b[0m                         lazy_load_hdus, ignore_missing_simple, \u001b[39m*\u001b[39;49m\u001b[39m*\u001b[39;49mkwargs)\n",
      "File \u001b[0;32m~/opt/anaconda3/lib/python3.9/site-packages/astropy/io/fits/hdu/hdulist.py:410\u001b[0m, in \u001b[0;36mHDUList.fromfile\u001b[0;34m(cls, fileobj, mode, memmap, save_backup, cache, lazy_load_hdus, ignore_missing_simple, **kwargs)\u001b[0m\n\u001b[1;32m    398\u001b[0m \u001b[39m@classmethod\u001b[39m\n\u001b[1;32m    399\u001b[0m \u001b[39mdef\u001b[39;00m \u001b[39mfromfile\u001b[39m(\u001b[39mcls\u001b[39m, fileobj, mode\u001b[39m=\u001b[39m\u001b[39mNone\u001b[39;00m, memmap\u001b[39m=\u001b[39m\u001b[39mNone\u001b[39;00m,\n\u001b[1;32m    400\u001b[0m              save_backup\u001b[39m=\u001b[39m\u001b[39mFalse\u001b[39;00m, cache\u001b[39m=\u001b[39m\u001b[39mTrue\u001b[39;00m, lazy_load_hdus\u001b[39m=\u001b[39m\u001b[39mTrue\u001b[39;00m,\n\u001b[1;32m    401\u001b[0m              ignore_missing_simple\u001b[39m=\u001b[39m\u001b[39mFalse\u001b[39;00m, \u001b[39m*\u001b[39m\u001b[39m*\u001b[39mkwargs):\n\u001b[1;32m    402\u001b[0m     \u001b[39m\"\"\"\u001b[39;00m\n\u001b[1;32m    403\u001b[0m \u001b[39m    Creates an `HDUList` instance from a file-like object.\u001b[39;00m\n\u001b[1;32m    404\u001b[0m \n\u001b[0;32m   (...)\u001b[0m\n\u001b[1;32m    407\u001b[0m \u001b[39m    documentation for details of the parameters accepted by this method).\u001b[39;00m\n\u001b[1;32m    408\u001b[0m \u001b[39m    \"\"\"\u001b[39;00m\n\u001b[0;32m--> 410\u001b[0m     \u001b[39mreturn\u001b[39;00m \u001b[39mcls\u001b[39;49m\u001b[39m.\u001b[39;49m_readfrom(fileobj\u001b[39m=\u001b[39;49mfileobj, mode\u001b[39m=\u001b[39;49mmode, memmap\u001b[39m=\u001b[39;49mmemmap,\n\u001b[1;32m    411\u001b[0m                          save_backup\u001b[39m=\u001b[39;49msave_backup, cache\u001b[39m=\u001b[39;49mcache,\n\u001b[1;32m    412\u001b[0m                          ignore_missing_simple\u001b[39m=\u001b[39;49mignore_missing_simple,\n\u001b[1;32m    413\u001b[0m                          lazy_load_hdus\u001b[39m=\u001b[39;49mlazy_load_hdus, \u001b[39m*\u001b[39;49m\u001b[39m*\u001b[39;49mkwargs)\n",
      "File \u001b[0;32m~/opt/anaconda3/lib/python3.9/site-packages/astropy/io/fits/hdu/hdulist.py:1125\u001b[0m, in \u001b[0;36mHDUList._readfrom\u001b[0;34m(cls, fileobj, data, mode, memmap, cache, lazy_load_hdus, ignore_missing_simple, **kwargs)\u001b[0m\n\u001b[1;32m   1122\u001b[0m     \u001b[39mif\u001b[39;00m hdulist\u001b[39m.\u001b[39m_file\u001b[39m.\u001b[39mclose_on_error:\n\u001b[1;32m   1123\u001b[0m         hdulist\u001b[39m.\u001b[39m_file\u001b[39m.\u001b[39mclose()\n\u001b[0;32m-> 1125\u001b[0m     \u001b[39mraise\u001b[39;00m \u001b[39mOSError\u001b[39;00m(\u001b[39m'\u001b[39m\u001b[39mEmpty or corrupt FITS file\u001b[39m\u001b[39m'\u001b[39m)\n\u001b[1;32m   1127\u001b[0m \u001b[39mif\u001b[39;00m \u001b[39mnot\u001b[39;00m lazy_load_hdus \u001b[39mor\u001b[39;00m kwargs\u001b[39m.\u001b[39mget(\u001b[39m'\u001b[39m\u001b[39mchecksum\u001b[39m\u001b[39m'\u001b[39m) \u001b[39mis\u001b[39;00m \u001b[39mTrue\u001b[39;00m:\n\u001b[1;32m   1128\u001b[0m     \u001b[39m# Go ahead and load all HDUs\u001b[39;00m\n\u001b[1;32m   1129\u001b[0m     \u001b[39mwhile\u001b[39;00m hdulist\u001b[39m.\u001b[39m_read_next_hdu():\n",
      "\u001b[0;31mOSError\u001b[0m: Empty or corrupt FITS file"
     ]
    }
   ],
   "source": [
    "hdu, hdr, w = pf.open_fits(cpxt_sb)\n",
    "fig, ax = pf.plot_fits_map(hdu.data, hdr, cmap=cm.magma, vmin = 0, vmax=2e-6, wcs=None) "
   ]
  },
  {
   "attachments": {},
   "cell_type": "markdown",
   "id": "99593d00",
   "metadata": {},
   "source": [
    "### Temperature, Presure and Entropy Maps"
   ]
  },
  {
   "cell_type": "code",
   "execution_count": 34,
   "id": "6c44e305",
   "metadata": {},
   "outputs": [],
   "source": [
    "cpxt_temp = cpxt_path + 'SDSS1531_FINAL_temperature_map_repro.fits'\n",
    "cpxt_pressure = cpxt_path + 'SDSS1531_FINAL_pressure.fits'\n",
    "cpxt_entropy = cpxt_path + 'SDSS1531_FINAL_entropy.fits'"
   ]
  },
  {
   "cell_type": "code",
   "execution_count": 35,
   "id": "d13a8801",
   "metadata": {},
   "outputs": [],
   "source": [
    "tmap_hdu, tmap_hdr, tmap_wcs = pf.open_fits(cpxt_temp)\n",
    "pmap_hdu, pmap_hdr, pmap_wcs = pf.open_fits(cpxt_pressure)\n",
    "emap_hdu, emap_hdr, emap_wcs = pf.open_fits(cpxt_entropy)"
   ]
  },
  {
   "cell_type": "code",
   "execution_count": 36,
   "id": "8ca8f26d",
   "metadata": {},
   "outputs": [
    {
     "data": {
      "image/png": "[encoded data removed]",
      "text/plain": [
       "<Figure size 1728x576 with 6 Axes>"
      ]
     },
     "metadata": {},
     "output_type": "display_data"
    }
   ],
   "source": [
    "#data \n",
    "hdus = [tmap_hdu, pmap_hdu, emap_hdu]\n",
    "\n",
    "#plot specifics\n",
    "plot_width, plot_height = 8, 8\n",
    "nrows, ncols = 1, 3\n",
    "moment_levels = 40\n",
    "clims=[[2.4, 3.7],  [0.1, 1], [0, 0.3]]\n",
    "sns_map = cm.Blues_r \n",
    "cmaps=[cm.magma, cm.magma, cm.magma]\n",
    "\n",
    "zooms = [None, None, None] #[ra+ 6e-4, dec, 58 * u.arcsec], [ra+ 6e-4, dec, 20 * u.arcsec], [ra+ 6e-4, dec, 20 * u.arcsec]]\n",
    "\n",
    "#draw\n",
    "fig = plt.figure(figsize=(plot_width*ncols, plot_height*nrows))\n",
    "gs1 = GridSpec(nrows, ncols)\n",
    "gs1.update(wspace=0.02, hspace=0.03)\n",
    "\n",
    "axs = []\n",
    "cbar_labels = [r'keV',  None, None]\n",
    "color_labels = ['k', 'k', 'k']\n",
    "\n",
    "for id_subplot in range(3):\n",
    "\n",
    "    hdu = hdus[id_subplot]\n",
    "    hdr = hdu.header\n",
    "    clim = clims[id_subplot]\n",
    "    cmap = cmaps[id_subplot]\n",
    "    cb_label = cbar_labels[id_subplot]\n",
    "    cb_color = color_labels[id_subplot]\n",
    "    zoom = zooms[id_subplot]\n",
    "\n",
    "    ax = fig.add_subplot(gs1[0, id_subplot], projection=WCS(hdr))\n",
    "    \n",
    "    ax, cb = pf.ax_fits_map(hdu, vmin=clim[0], vmax=clim[1], cmap=cmap, \n",
    "                    coords=zoom, ax=ax, contour=False, \n",
    "                    nlevels=moment_levels, lw=5, location='bottom',\n",
    "                    cb_width=6, units=cb_label, cb_pad=-40,\n",
    "                    cb_color=cb_color, cb_fsize=18)\n",
    "                    \n",
    "\n",
    "    pf.hide_plot_labels(ax, hdr, hidex=1, hidey=1)\n",
    "    #ax.axis('off')\n",
    "    ax.patch.set_edgecolor('black')  \n",
    "    ax.patch.set_linewidth('3') \n",
    "\n",
    "    axs.append(ax)\n"
   ]
  },
  {
   "cell_type": "code",
   "execution_count": null,
   "id": "497b92f6",
   "metadata": {},
   "outputs": [],
   "source": []
  },
  {
   "cell_type": "code",
   "execution_count": null,
   "id": "7495ad45",
   "metadata": {},
   "outputs": [],
   "source": []
  }
 ],
 "metadata": {
  "interpreter": {
   "hash": "bab9909fa8cbd9df8527ebea13a688d7db2f84a2f9272dffc6345519c385bbf9"
  },
  "kernelspec": {
   "display_name": "Python 3.8.12 ('base')",
   "language": "python",
   "name": "python3"
  },
  "language_info": {
   "codemirror_mode": {
    "name": "ipython",
    "version": 3
   },
   "file_extension": ".py",
   "mimetype": "text/x-python",
   "name": "python",
   "nbconvert_exporter": "python",
   "pygments_lexer": "ipython3",
   "version": "3.9.12"
  }
 },
 "nbformat": 4,
 "nbformat_minor": 5
}
