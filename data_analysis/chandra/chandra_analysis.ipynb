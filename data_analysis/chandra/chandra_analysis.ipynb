{
 "cells": [
  {
   "attachments": {},
   "cell_type": "markdown",
   "metadata": {},
   "source": [
    "### X-ray Analysis\n",
    "1. `If space between wings is a cavity, how much work is done by the rising X-ray bubble`\n",
    "\n"
   ]
  },
  {
   "cell_type": "code",
   "execution_count": 1,
   "metadata": {},
   "outputs": [],
   "source": [
    "path_to_beads = '/Users/osaseomoruyi/Dropbox (Harvard University)/BeadsMultiwavelength/'"
   ]
  },
  {
   "cell_type": "code",
   "execution_count": 2,
   "metadata": {},
   "outputs": [],
   "source": [
    "#system\n",
    "from __future__ import division\n",
    "import sys\n",
    "\n",
    "#numpy\n",
    "import numpy as np\n",
    "\n",
    "import h5py\n",
    "from types import SimpleNamespace\n",
    "\n",
    "#matplotlib\n",
    "import matplotlib.pyplot as plt\n",
    "from matplotlib.gridspec import GridSpec\n",
    "from matplotlib import cm\n",
    "from matplotlib.colors import ListedColormap\n",
    "from palettable.colorbrewer.qualitative import Set1_4 as brewermap\n",
    "%matplotlib inline\n",
    "\n",
    "\n",
    "#astropy\n",
    "from astropy.wcs import WCS\n",
    "import astropy.units as u\n",
    "import astropy.constants as const\n",
    "from astropy.cosmology import LambdaCDM\n",
    "from astropy.coordinates import Angle\n",
    "from astropy.io import ascii\n",
    "\n",
    "#pandas\n",
    "import pandas as pd\n",
    "\n",
    "#scipy\n",
    "import scipy\n",
    "\n",
    "#seaborn\n",
    "import seaborn as sns \n",
    "\n",
    "import importlib\n"
   ]
  },
  {
   "cell_type": "code",
   "execution_count": 3,
   "metadata": {},
   "outputs": [],
   "source": [
    "#import my own functions: you can see them in full in the utils folder\n",
    "util_path = path_to_beads + 'Notebooks/Beads20/utils/'\n",
    "sys.path.append(util_path)\n",
    "\n",
    "import plotting_functions as pf\n",
    "import science_functions as sf"
   ]
  },
  {
   "cell_type": "code",
   "execution_count": 4,
   "metadata": {},
   "outputs": [
    {
     "data": {
      "text/plain": [
       "<module 'plotting_functions' from '/Users/osaseomoruyi/Dropbox (Harvard University)/BeadsMultiwavelength/Notebooks/Beads20/utils/plotting_functions.py'>"
      ]
     },
     "execution_count": 4,
     "metadata": {},
     "output_type": "execute_result"
    }
   ],
   "source": [
    "#uncomment if need to reload module\n",
    "importlib.reload(pf)"
   ]
  },
  {
   "cell_type": "code",
   "execution_count": 5,
   "metadata": {},
   "outputs": [],
   "source": [
    "#paths\n",
    "fig_path = path_to_beads + 'Figures/paper/'\n",
    "chandra_data_directory = '/Users/osaseomoruyi/chandra/alternate_tmap/alternate_spectral_maps_working_dir/merged/'\n",
    "other_chandra_path = '/Users/osaseomoruyi/chandra/merged/'"
   ]
  },
  {
   "cell_type": "code",
   "execution_count": 6,
   "metadata": {},
   "outputs": [],
   "source": [
    "#About my galaxy cluster\n",
    "name = 'SDSS J1531+3414'\n",
    "ra = 232.7936938\n",
    "dec = 34.2404172\n",
    "radius = Angle(2.5, u.arcsec)\n",
    "\n",
    "zh  = 0.335 #z selected from Hennawi (2008)\n",
    "cz = zh * const.c.to('km/s') # The stellar systemic velocity that we'll subtract off of our velocity maps. I always use Astropy Units - read up on them if you're not famililar!\n",
    "\n",
    "cosmo = LambdaCDM(H0=71, Om0=0.27, Ode0=0.73)\n",
    "da = cosmo.angular_diameter_distance(zh)\n",
    "dl = cosmo.luminosity_distance(zh)\n",
    "\n",
    "angular_diameter_distance = cosmo.angular_diameter_distance(z=zh) # in Mpc\n",
    "kpc_per_arcsec = cosmo.kpc_proper_per_arcmin(z=zh).to(u.kpc / u.arcsec)"
   ]
  },
  {
   "cell_type": "code",
   "execution_count": 7,
   "metadata": {},
   "outputs": [],
   "source": [
    "#plot style\n",
    "pf.styleplots()"
   ]
  },
  {
   "cell_type": "markdown",
   "metadata": {},
   "source": [
    "### Load Data"
   ]
  },
  {
   "cell_type": "code",
   "execution_count": 8,
   "metadata": {},
   "outputs": [],
   "source": [
    "chandra_wavelet_file = ''.join((path_to_beads, 'Analysis/chandraBeads/wavelet_fit/beads_lynx_img.fits'))\n",
    "chandra_raw_file = ''.join((path_to_beads, 'Analysis/chandraBeads/merged/beads_xray_bin2_broad_flux.img'))"
   ]
  },
  {
   "cell_type": "code",
   "execution_count": 10,
   "metadata": {},
   "outputs": [],
   "source": [
    "#plot HST on top\n",
    "hst_hdr, hst_wcs, hst_hdu = sf.load_HST_data(path_to_beads)\n",
    "ysc_coords = sf.ysc_load(path_to_beads)\n",
    "hst_cont_color, ysc_color = 'k', 'cyan'"
   ]
  },
  {
   "cell_type": "code",
   "execution_count": null,
   "metadata": {},
   "outputs": [],
   "source": []
  },
  {
   "attachments": {},
   "cell_type": "markdown",
   "metadata": {},
   "source": [
    "### If space between wings is a cavity, was the heat released enough to mitgate ICM cooling?"
   ]
  },
  {
   "cell_type": "code",
   "execution_count": 12,
   "metadata": {},
   "outputs": [],
   "source": [
    "specfit_savepath = path_to_beads + 'Analysis/chandraBeads/ciao_spectra_results/'\n",
    "cel_flux = np.load(specfit_savepath + 'cf_60.npy')\n",
    "cel_flux_err = np.load(specfit_savepath + 'cf_err_60.npy')\n",
    "\n",
    "flux = np.load(specfit_savepath + 'flux_60.npy')\n",
    "flux_min_err = np.load(specfit_savepath + 'flux_min_60.npy')\n",
    "flux_max_err = np.load(specfit_savepath + 'flux_max_60.npy')"
   ]
  },
  {
   "cell_type": "code",
   "execution_count": 13,
   "metadata": {},
   "outputs": [],
   "source": [
    "#KT and norm\n",
    "kTs = np.load(specfit_savepath + 'kTs_60.npy') * u.keV\n",
    "kT_errs = np.load(specfit_savepath + 'kT_err_60.npy') * u.keV\n",
    "norms = np.load(specfit_savepath + 'norms_60.npy')\n",
    "norm_errs = np.load(specfit_savepath + 'norm_errs_60.npy')\n",
    "\n",
    "\n",
    "radius_df = pd.DataFrame(np.load(specfit_savepath + 'radius_60.npy'), columns=['radius', \n",
    "                            'radius_err', 'r_inner', 'r_outer'])\n",
    "\n",
    "r_inner_in_kpc = radius_df['r_inner'].to_numpy() * u.kpc \n",
    "r_outer_in_kpc = radius_df['r_outer'].to_numpy() * u.kpc \n",
    "radius_to_plot = radius_df['radius'].to_numpy() * u.kpc \n",
    "radius_err_to_plot = radius_df['radius_err'].to_numpy() * u.kpc \n",
    "\n",
    "volume = (4/3) * scipy.pi * (r_outer_in_kpc**3 - r_inner_in_kpc**3)\n",
    "\n",
    "#electron density\n",
    "electron_density = np.sqrt((norms * u.cm**-5 * 4 * np.pi * \n",
    "                            np.power(angular_diameter_distance.to(u.cm) * (1 + zh), 2)) \n",
    "                            / (1.e-14 * 0.82 * volume.to(u.cm**3))) \n",
    "electron_density_err = electron_density / (2*norms) * norm_errs\n",
    "\n",
    "#pressure\n",
    "pressure = (2 * electron_density * kTs).to(u.dyne/u.cm**2)\n",
    "pressure_err  = pressure * sf.dm_error_prop([electron_density, kTs], [electron_density_err, kT_errs])\n",
    "\n",
    "#entropy\n",
    "entropy  = kTs * np.power(electron_density, -2.0/3.0)\n",
    "entropy_err = entropy * sf.dm_error_prop([kTs.value, np.power(electron_density, -2/3).value], \n",
    "                [kT_errs.value, sf.exp_error_prop(electron_density, electron_density_err, -2/3) ])\n",
    "\n",
    "#cooling time\n",
    "cooling_time = sf.tcool(electron_density, kTs)\n",
    "cool_func_err = sf.dm_error_prop([kTs**-1.7, kTs**0.5], [sf.exp_error_prop(kTs, kT_errs, -1.7), \n",
    "                    sf.exp_error_prop(kTs, kT_errs, 0.5)]) * sf.coolingFunction(kTs)\n",
    "\n",
    "cooling_time_err = cooling_time * sf.dm_error_prop([pressure.value, np.power(electron_density, 2).value, sf.coolingFunction(kTs).value],\n",
    "                    [pressure_err.value, sf.exp_error_prop(electron_density, electron_density_err, 2).value, cool_func_err])"
   ]
  },
  {
   "cell_type": "code",
   "execution_count": 40,
   "metadata": {},
   "outputs": [],
   "source": [
    "luminosity  = flux * u.erg / u.s / u.cm**2  * 4.0 * np.pi * np.power(cosmo.luminosity_distance(zh), 2) # in erg/s\n",
    "luminosity_min_err  = luminosity * np.sqrt(((flux - flux_min_err)/flux)**2) \n",
    "luminosity_max_err  = luminosity * np.sqrt(((flux_max_err - flux)/flux)**2) "
   ]
  },
  {
   "cell_type": "code",
   "execution_count": 42,
   "metadata": {},
   "outputs": [
    {
     "name": "stdout",
     "output_type": "stream",
     "text": [
      "Cooling Luminosity:\n",
      "2.1534477158491653e+43 erg / s 1.4088857884116153e+42 erg / s 1.4104781519531465e+42 erg / s\n"
     ]
    }
   ],
   "source": [
    "print(\"Cooling Luminosity:\")\n",
    "print(luminosity.to(u.erg/u.s)[3], luminosity_min_err.to(u.erg/u.s)[3], luminosity_max_err.to(u.erg/u.s)[3])"
   ]
  },
  {
   "cell_type": "code",
   "execution_count": 43,
   "metadata": {},
   "outputs": [],
   "source": [
    "def cavity_power(R, radius_cav, pressure_cav, sigma, C=0.75, gamma=5./3., kT=2.3, mu=0.62):\n",
    "    \"\"\"\n",
    "    Calculate the cavity power of an ellipsoidal cavity in the ICM.\n",
    "\n",
    "    Parameters\n",
    "    ----------\n",
    "    R : float\n",
    "        Projected distance from the center of the cavity to the BCG center [kpc].\n",
    "    radius_cav : float\n",
    "        Projected radius of the cavity [kpc].\n",
    "    pressure_cav : float\n",
    "        pressure of outer edges of bubbble\n",
    "    sigma : float\n",
    "        Stellar velocity dispersion of the BCG [km/s].\n",
    "    C : float, optional\n",
    "        Drag coefficient, default to 0.75.\n",
    "\n",
    "    Returns\n",
    "    -------\n",
    "    P_cav : float\n",
    "        Cavity power [erg/s].\n",
    "    \"\"\"\n",
    "    g = 2 * sigma**2 / R  # Gravitational acceleration [cm/s^2]\n",
    "    S =   4 * np.pi * radius_cav**2 #cross sectional area of cavity\n",
    "    V = 4 * np.pi * radius_cav**3 #volume cavity\n",
    " \n",
    "    v_sound = np.sqrt(2*g*V/(C*S)) #np.sqrt(gamma * (kT*u.keV)/(mu * const.m_p))\n",
    "    print(v_sound.to(u.km/u.s))\n",
    "    t_cav = R /v_sound   # Cavity age [s]\n",
    "    print('cav age: {}'.format(t_cav.to(u.year)/1e7))\n",
    "    E_cav = 4 * pressure_cav * V  # Cavity energy [erg]\n",
    "    P_cav = E_cav / t_cav  # Cavity power [erg/s]\n",
    "    \n",
    "    return P_cav.to(u.erg/u.s)\n"
   ]
  },
  {
   "cell_type": "code",
   "execution_count": 44,
   "metadata": {},
   "outputs": [
    {
     "name": "stdout",
     "output_type": "stream",
     "text": [
      "833.7332727704235 km / s\n",
      "cav age: 2.4252893758544802 yr\n",
      "Cavity Power:\n",
      "1.5518633438528683e+45 erg / s 3.502304542762832e+44 erg / s\n"
     ]
    }
   ],
   "source": [
    "radius_cavity = 2.868 * u.arcsec * kpc_per_arcsec #kpc\n",
    "distance_to_cavity = 4.338 * u.arcsec * kpc_per_arcsec #20.6 kpc\n",
    "pressure_cavity = pressure[2] # units (u.dyne/u.cm**2)\n",
    "pressure_cavity_err = pressure_err[2] # units (u.dyne/u.cm**2)\n",
    "sigma = 444 * u.km/u.s #sdss\n",
    "sigma_err = 100 * u.km/u.s\n",
    "\n",
    "power_cavity = cavity_power(distance_to_cavity, radius_cavity, pressure_cavity, sigma)\n",
    "power_cavity_err = power_cavity * sf.dm_error_prop([pressure_cavity, sigma], [pressure_cavity_err, sigma_err])\n",
    "\n",
    "#cavity_power(distance_to_cavity, radius_cavity, pressure_cavity_err, sigma_err)\n",
    "print(\"Cavity Power:\")\n",
    "print(power_cavity, power_cavity_err)"
   ]
  },
  {
   "cell_type": "code",
   "execution_count": null,
   "metadata": {},
   "outputs": [],
   "source": []
  }
 ],
 "metadata": {
  "kernelspec": {
   "display_name": "Python 3.8.12 ('base')",
   "language": "python",
   "name": "python3"
  },
  "language_info": {
   "codemirror_mode": {
    "name": "ipython",
    "version": 3
   },
   "file_extension": ".py",
   "mimetype": "text/x-python",
   "name": "python",
   "nbconvert_exporter": "python",
   "pygments_lexer": "ipython3",
   "version": "3.9.12"
  },
  "orig_nbformat": 4,
  "vscode": {
   "interpreter": {
    "hash": "bab9909fa8cbd9df8527ebea13a688d7db2f84a2f9272dffc6345519c385bbf9"
   }
  }
 },
 "nbformat": 4,
 "nbformat_minor": 2
}
