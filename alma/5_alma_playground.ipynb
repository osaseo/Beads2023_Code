{
 "cells": [
  {
   "cell_type": "markdown",
   "metadata": {},
   "source": [
    "# Playground\n",
    "\n",
    "This notebook is for playing around with the data/troubleshooting issues"
   ]
  },
  {
   "cell_type": "code",
   "execution_count": 1,
   "metadata": {},
   "outputs": [],
   "source": [
    "#path to beads\n",
    "my_path = '/Users/osaseomoruyi/Dropbox (Harvard University)/BeadsMultiwavelength/'"
   ]
  },
  {
   "cell_type": "code",
   "execution_count": 8,
   "metadata": {},
   "outputs": [],
   "source": [
    "#system\n",
    "from __future__ import division\n",
    "import sys\n",
    "import importlib\n",
    "\n",
    "#numpy\n",
    "import numpy as np\n",
    "\n",
    "#astropy\n",
    "from astropy.io import ascii\n",
    "from astropy.io import fits\n",
    "from astropy.table import QTable\n",
    "from astropy import wcs\n",
    "from astropy.wcs import WCS\n",
    "from astropy.cosmology import LambdaCDM\n",
    "import astropy.units as u\n",
    "from astropy.coordinates import Angle\n",
    "import astropy.constants as const\n",
    "\n",
    "#spectral fitting\n",
    "import pyspeckit\n",
    "\n",
    "#matplotlib\n",
    "import matplotlib as mpl\n",
    "import matplotlib.pyplot as plt\n",
    "from matplotlib.gridspec import GridSpec\n",
    "import matplotlib.style as style\n",
    "from matplotlib import cm\n",
    "from matplotlib.colors import LogNorm\n",
    "%matplotlib inline\n",
    "\n",
    "#scipy\n",
    "from scipy import integrate\n",
    "from scipy.integrate import quad\n",
    "from scipy import stats\n",
    "\n",
    "#pv stuff\n",
    "\n",
    "from spectral_cube import SpectralCube\n",
    "\n",
    "#seaborn\n",
    "import seaborn as sns\n",
    "\n",
    "\n",
    "\n",
    "#warnings\n",
    "import warnings\n",
    "warnings.filterwarnings(\"ignore\")"
   ]
  },
  {
   "cell_type": "code",
   "execution_count": 3,
   "metadata": {},
   "outputs": [],
   "source": [
    "#import my own functions: you can see them in full in the utils folder\n",
    "util_path = my_path + 'Notebooks/Beads20/utils/'\n",
    "sys.path.append(util_path)\n",
    "\n",
    "import plotting_functions as pf\n",
    "import science_functions as af"
   ]
  },
  {
   "cell_type": "code",
   "execution_count": 4,
   "metadata": {},
   "outputs": [
    {
     "data": {
      "text/plain": [
       "<module 'plotting_functions' from '/Users/osaseomoruyi/Dropbox (Harvard University)/BeadsMultiwavelength/Notebooks/Beads20/utils/plotting_functions.py'>"
      ]
     },
     "execution_count": 4,
     "metadata": {},
     "output_type": "execute_result"
    }
   ],
   "source": [
    "importlib.reload(pf)"
   ]
  },
  {
   "cell_type": "code",
   "execution_count": 4,
   "metadata": {},
   "outputs": [],
   "source": [
    "#About\n",
    "name = 'SDSS J1531+3414'\n",
    "ra = 232.7936938\n",
    "dec = 34.2404172\n",
    "radius = Angle(2.5, u.arcsec)\n",
    "\n",
    "zh  = 0.335 #z selected from Hennawi (2008)\n",
    "cz = zh * const.c.to('km/s')"
   ]
  },
  {
   "cell_type": "code",
   "execution_count": 5,
   "metadata": {},
   "outputs": [],
   "source": [
    "cosmo = LambdaCDM(H0=71, Om0=0.27, Ode0=0.73)\n",
    "da = cosmo.angular_diameter_distance(zh)\n",
    "dl = cosmo.luminosity_distance(zh)"
   ]
  },
  {
   "cell_type": "code",
   "execution_count": 6,
   "metadata": {},
   "outputs": [],
   "source": [
    "\n",
    "file_path = 'Analysis/almaBeads/cannon/'\n",
    "co32_file = my_path + 'Analysis/almaBeads/reduced_2022/SDSS1531_CO32_20kms_natural_notaper.image.pbcor.fits'\n",
    "\n",
    "m0_file = my_path + 'Analysis/almaBeads/reduced_2022/SDSS1531_CO32_20kms_natural_notaper.image.pbcor_M0.fits'\n",
    "\n",
    "fig_path = my_path + 'Figures/paper/'"
   ]
  },
  {
   "cell_type": "code",
   "execution_count": 7,
   "metadata": {},
   "outputs": [],
   "source": [
    "#plot style\n",
    "#pf.styleplots(presentation=True)"
   ]
  },
  {
   "cell_type": "markdown",
   "metadata": {},
   "source": [
    "# Notebook 2"
   ]
  },
  {
   "cell_type": "markdown",
   "metadata": {},
   "source": [
    "### Gaussian Fit Integral Correct"
   ]
  },
  {
   "cell_type": "code",
   "execution_count": 33,
   "metadata": {},
   "outputs": [],
   "source": [
    "mu, sigma = 352.3, 130\n",
    "amp = 3.92\n",
    "# def gauss(x):\n",
    "#     return amp * stats.norm.pdf(x, mu, sigma)\n",
    "\n",
    "def gauss(x, mu, sigma, amp):\n",
    "    return amp * np.exp(-(x - mu) ** 2 / (2 * sigma ** 2))\n",
    "\n",
    "def gauss_integral(lowerbound, upperbound, mu, sigma, amp):\n",
    "    integral = quad(gauss, lowerbound, upperbound, args=(mu, sigma, amp))\n",
    "    return integral\n"
   ]
  },
  {
   "cell_type": "code",
   "execution_count": 34,
   "metadata": {},
   "outputs": [],
   "source": [
    "integral = gauss_integral(0, 800, mu, sigma, amp)"
   ]
  },
  {
   "cell_type": "code",
   "execution_count": 35,
   "metadata": {},
   "outputs": [
    {
     "data": {
      "text/plain": [
       "(1272.7141757263425, 1.412996581990223e-11)"
      ]
     },
     "execution_count": 35,
     "metadata": {},
     "output_type": "execute_result"
    }
   ],
   "source": [
    "integral"
   ]
  },
  {
   "cell_type": "code",
   "execution_count": 31,
   "metadata": {},
   "outputs": [
    {
     "data": {
      "text/plain": [
       "[<matplotlib.lines.Line2D at 0x7fe6278941c0>]"
      ]
     },
     "execution_count": 31,
     "metadata": {},
     "output_type": "execute_result"
    },
    {
     "data": {
      "image/png": "[encoded data removed]",
      "text/plain": [
       "<Figure size 432x288 with 1 Axes>"
      ]
     },
     "metadata": {
      "needs_background": "light"
     },
     "output_type": "display_data"
    }
   ],
   "source": [
    "x = np.linspace(0, 800, 50)\n",
    "plt.plot(x, gauss(x))"
   ]
  },
  {
   "cell_type": "code",
   "execution_count": null,
   "metadata": {},
   "outputs": [],
   "source": [
    "af.extract_cube_spectrum(cube, nrms=5, sigma_clip=3)"
   ]
  },
  {
   "cell_type": "code",
   "execution_count": null,
   "metadata": {},
   "outputs": [],
   "source": [
    "def gauss(x, mu, sigma):\n",
    "    return stats.norm.pdf(x, mu, sigma)\n",
    "\n",
    "def gauss_integral(lowerbound, upperbound):\n",
    "    integral = quad(gauss, lowerbound, upperbound)\n",
    "    return integral\n"
   ]
  },
  {
   "cell_type": "markdown",
   "metadata": {},
   "source": [
    "## PySpecKit"
   ]
  },
  {
   "cell_type": "code",
   "execution_count": 23,
   "metadata": {},
   "outputs": [],
   "source": [
    "cube = totcubes[3]"
   ]
  },
  {
   "cell_type": "code",
   "execution_count": 24,
   "metadata": {},
   "outputs": [],
   "source": [
    "# cube = totcubes[0]\n",
    "cube_rms= np.sqrt(np.nanvar(cube[:5, :, :])) * cube.unit# 0.204 * u.mJy/u.beam#cube.statistics()['rms']\n",
    "\n",
    "#select emission > 2sigma\n",
    "\n",
    "\n",
    "cubespec = cube.mean(axis=(1, 2)) \n",
    "#find number of pixels in each velocity channel\n",
    "nspec = cube.sum(axis=(1, 2))/cube.mean(axis=(1, 2)) #number of pixels\n",
    "\n",
    "#convert from jy/beam to jy and get the total flux\n",
    "cubespec_Jy = af.jy(cubespec, nspec, cube) \n",
    "\n",
    "#correct for offset\n",
    "# cubespec_hdu = cubespec_Jy.hdu\n",
    "# vregion = 0 * (u.km/u.s)\n",
    "\n",
    "# # restf = cubespec.wcs.wcs.restfrq*u.Hz\n",
    "# # offset = restf-(vregion).to(u.GHz,u.doppler_radio(restf))\n",
    "\n",
    "# #fit spectrum\n",
    "# if chatty is not False:\n",
    "#     print(\"...defining spectral axis, errors, and fitting spectrum...\")\n",
    "\n",
    "# The following will define the spectral axis units using the specified velocity convention\n",
    "spectral_axis = cubespec_Jy.with_spectral_unit(u.km/u.s).spectral_axis\n",
    "\n",
    "#standard deviation\n",
    "err_jy_beam = np.full(len(cubespec), cube_rms) * cube_rms.unit\n",
    "err_jy = af.jy(err_jy_beam, nspec, cube) "
   ]
  },
  {
   "cell_type": "code",
   "execution_count": 25,
   "metadata": {},
   "outputs": [
    {
     "data": {
      "text/latex": [
       "$5.8128287 \\times 10^{-5} \\; \\mathrm{\\frac{Jy}{beam}}$"
      ],
      "text/plain": [
       "<Quantity 5.8128287e-05 Jy / beam>"
      ]
     },
     "execution_count": 25,
     "metadata": {},
     "output_type": "execute_result"
    }
   ],
   "source": [
    "cube_rms"
   ]
  },
  {
   "cell_type": "code",
   "execution_count": 47,
   "metadata": {},
   "outputs": [
    {
     "name": "stdout",
     "output_type": "stream",
     "text": [
      "hi\n"
     ]
    }
   ],
   "source": [
    "if not cube_rms > 0:\n",
    "    print(\"hi\")"
   ]
  },
  {
   "cell_type": "code",
   "execution_count": 34,
   "metadata": {},
   "outputs": [
    {
     "data": {
      "text/latex": [
       "$[{\\rm NaN},~{\\rm NaN},~{\\rm NaN},~{\\rm NaN},~{\\rm NaN},~{\\rm NaN},~{\\rm NaN},~{\\rm NaN},~0.0054569822,~0.037761644,~0.10524639,~0.053300895,~0.062466286,~0.10625038,~0.041785095,~0.043015722,~0.038008068,~0.0013457453,~{\\rm NaN},~{\\rm NaN}] \\; \\mathrm{\\frac{Jy}{beam}}$"
      ],
      "text/plain": [
       "<OneDSpectrum [       nan,       nan,       nan,       nan,       nan,\n",
       "                      nan,       nan,       nan,0.00545698,0.03776164,\n",
       "               0.10524639,0.05330089,0.06246629,0.10625038,0.04178509,\n",
       "               0.04301572,0.03800807,0.00134575,       nan,       nan] Jy / beam>"
      ]
     },
     "execution_count": 34,
     "metadata": {},
     "output_type": "execute_result"
    }
   ],
   "source": [
    "cube.sum(axis=(1, 2))"
   ]
  },
  {
   "cell_type": "code",
   "execution_count": 37,
   "metadata": {},
   "outputs": [
    {
     "data": {
      "text/latex": [
       "$[{\\rm NaN},~{\\rm NaN},~{\\rm NaN},~{\\rm NaN},~{\\rm NaN},~{\\rm NaN},~{\\rm NaN},~{\\rm NaN},~0.00045474852,~0.00059002568,~0.00071112422,~0.00050762756,~0.0005431851,~0.00064786815,~0.0005498039,~0.00053105829,~0.00054297241,~0.00044858176,~{\\rm NaN},~{\\rm NaN}] \\; \\mathrm{\\frac{Jy}{beam}}$"
      ],
      "text/plain": [
       "<OneDSpectrum [       nan,       nan,       nan,       nan,       nan,\n",
       "                      nan,       nan,       nan,0.00045475,0.00059003,\n",
       "               0.00071112,0.00050763,0.00054319,0.00064787,0.0005498 ,\n",
       "               0.00053106,0.00054297,0.00044858,       nan,       nan] Jy / beam>"
      ]
     },
     "execution_count": 37,
     "metadata": {},
     "output_type": "execute_result"
    }
   ],
   "source": [
    "cube.mean(axis=(1, 2))"
   ]
  },
  {
   "cell_type": "code",
   "execution_count": 38,
   "metadata": {},
   "outputs": [
    {
     "data": {
      "text/latex": [
       "$[{\\rm NaN},~{\\rm NaN},~{\\rm NaN},~{\\rm NaN},~{\\rm NaN},~{\\rm NaN},~{\\rm NaN},~{\\rm NaN},~12,~64,~148,~105,~115,~164,~76,~81,~70,~3,~{\\rm NaN},~{\\rm NaN}] \\; \\mathrm{}$"
      ],
      "text/plain": [
       "<OneDSpectrum [ nan, nan, nan, nan, nan, nan, nan, nan, 12., 64.,148.,105.,\n",
       "               115.,164., 76., 81., 70.,  3., nan, nan]>"
      ]
     },
     "execution_count": 38,
     "metadata": {},
     "output_type": "execute_result"
    }
   ],
   "source": [
    "nspec"
   ]
  },
  {
   "cell_type": "code",
   "execution_count": 39,
   "metadata": {},
   "outputs": [
    {
     "data": {
      "text/latex": [
       "$[{\\rm NaN},~{\\rm NaN},~{\\rm NaN},~{\\rm NaN},~{\\rm NaN},~{\\rm NaN},~{\\rm NaN},~{\\rm NaN},~0.00027409906,~0.0018967317,~0.0052864263,~0.0026772534,~0.0031376225,~0.005336856,~0.0020988258,~0.002160639,~0.0019091093,~6.7595509 \\times 10^{-5},~{\\rm NaN},~{\\rm NaN}] \\; \\mathrm{Jy}$"
      ],
      "text/plain": [
       "<OneDSpectrum [          nan,          nan,          nan,          nan,\n",
       "                         nan,          nan,          nan,          nan,\n",
       "               2.7409906e-04,1.8967317e-03,5.2864263e-03,2.6772534e-03,\n",
       "               3.1376225e-03,5.3368560e-03,2.0988258e-03,2.1606390e-03,\n",
       "               1.9091093e-03,6.7595509e-05,          nan,          nan] Jy>"
      ]
     },
     "execution_count": 39,
     "metadata": {},
     "output_type": "execute_result"
    }
   ],
   "source": [
    "cubespec_Jy"
   ]
  },
  {
   "cell_type": "code",
   "execution_count": 20,
   "metadata": {},
   "outputs": [],
   "source": [
    "# ecube = cube[:5,:,:]\n",
    "# ecubespec = ecube.mean(axis=(1, 2)) \n",
    "# enspec = ecube.sum(axis=(1, 2))/ecube.mean(axis=(1, 2))"
   ]
  },
  {
   "cell_type": "code",
   "execution_count": 21,
   "metadata": {},
   "outputs": [],
   "source": [
    "# ecubespec"
   ]
  },
  {
   "cell_type": "code",
   "execution_count": 22,
   "metadata": {},
   "outputs": [],
   "source": [
    "# enspec"
   ]
  },
  {
   "cell_type": "code",
   "execution_count": 23,
   "metadata": {},
   "outputs": [],
   "source": [
    "# err_jy_beam = np.full(len(ecubespec), cube_rms) * cube_rms.unit\n",
    "# err_jy = af.jy(err_jy_beam, enspec, ecube) "
   ]
  },
  {
   "cell_type": "code",
   "execution_count": 24,
   "metadata": {},
   "outputs": [],
   "source": [
    "# err_jy"
   ]
  },
  {
   "cell_type": "code",
   "execution_count": null,
   "metadata": {},
   "outputs": [],
   "source": []
  },
  {
   "cell_type": "code",
   "execution_count": 25,
   "metadata": {},
   "outputs": [],
   "source": [
    "# cube.sum(axis=(1, 2))"
   ]
  },
  {
   "cell_type": "code",
   "execution_count": 26,
   "metadata": {},
   "outputs": [],
   "source": [
    "# cube.sum(axis=(1, 2))"
   ]
  },
  {
   "cell_type": "code",
   "execution_count": 27,
   "metadata": {},
   "outputs": [],
   "source": [
    "flux_err = np.full(len(spectral_axis), (err_jy).to(u.mJy)) \n",
    "flux_err = np.nan_to_num(flux_err, copy=True, nan=np.nanmean(err_jy.value), posinf=None, neginf=None)"
   ]
  },
  {
   "cell_type": "code",
   "execution_count": 28,
   "metadata": {},
   "outputs": [],
   "source": [
    "#np.nanmean(err_jy.value)"
   ]
  },
  {
   "cell_type": "code",
   "execution_count": 29,
   "metadata": {},
   "outputs": [
    {
     "data": {
      "text/plain": [
       "array([nan, nan, nan, nan, nan, nan, nan, nan, nan, nan, nan, nan, nan,\n",
       "       nan, nan, nan, nan, nan, nan, nan])"
      ]
     },
     "execution_count": 29,
     "metadata": {},
     "output_type": "execute_result"
    }
   ],
   "source": [
    "flux_err"
   ]
  },
  {
   "cell_type": "code",
   "execution_count": 92,
   "metadata": {},
   "outputs": [
    {
     "data": {
      "text/latex": [
       "$[4,~{\\rm NaN},~26,~28,~20,~2,~3,~4,~2,~10,~5,~11,~5,~4,~6,~8,~3,~9,~16,~2,~31,~2,~5,~1,~2,~{\\rm NaN},~14,~18,~1,~3,~2,~{\\rm NaN},~5,~7,~22,~62,~48,~58,~54,~80,~130,~210,~159,~92,~176,~210,~137,~79,~114.99999,~69,~27,~84,~106,~58,~60.999996,~37,~22,~34,~{\\rm NaN},~27,~2,~1,~15,~6,~3,~1,~2,~28,~6,~11,~6,~27,~8,~5,~7,~9,~1,~2,~4,~12] \\; \\mathrm{}$"
      ],
      "text/plain": [
       "<OneDSpectrum [  4.      ,       nan, 26.      , 28.      , 20.      ,\n",
       "                 2.      ,  3.      ,  4.      ,  2.      , 10.      ,\n",
       "                 5.      , 11.      ,  5.      ,  4.      ,  6.      ,\n",
       "                 8.      ,  3.      ,  9.      , 16.      ,  2.      ,\n",
       "                31.      ,  2.      ,  5.      ,  1.      ,  2.      ,\n",
       "                      nan, 14.      , 18.      ,  1.      ,  3.      ,\n",
       "                 2.      ,       nan,  5.      ,  7.      , 22.      ,\n",
       "                62.      , 48.      , 58.      , 54.      , 80.      ,\n",
       "               130.      ,210.      ,159.      , 92.      ,176.      ,\n",
       "               210.      ,137.      , 79.      ,114.99999 , 69.      ,\n",
       "                27.      , 84.      ,106.      , 58.      , 60.999996,\n",
       "                37.      , 22.      , 34.      ,       nan, 27.      ,\n",
       "                 2.      ,  1.      , 15.      ,  6.      ,  3.      ,\n",
       "                 1.      ,  2.      , 28.      ,  6.      , 11.      ,\n",
       "                 6.      , 27.      ,  8.      ,  5.      ,  7.      ,\n",
       "                 9.      ,  1.      ,  2.      ,  4.      , 12.      ]>"
      ]
     },
     "execution_count": 92,
     "metadata": {},
     "output_type": "execute_result"
    }
   ],
   "source": [
    "nspec"
   ]
  },
  {
   "cell_type": "code",
   "execution_count": 145,
   "metadata": {},
   "outputs": [],
   "source": [
    "flux, vel = cubespec_Jy.to(u.mJy).value, spectral_axis.to(u.km/u.s).value\n",
    "flux = np.nan_to_num(flux, copy=True, nan=0, posinf=None, neginf=None)"
   ]
  },
  {
   "cell_type": "code",
   "execution_count": 146,
   "metadata": {},
   "outputs": [
    {
     "data": {
      "text/plain": [
       "array([0.10191057,        nan, 0.59929682, 0.691747  , 0.49213367,\n",
       "       0.04281938, 0.0750516 , 0.09275614, 0.04237529, 0.23784554,\n",
       "       0.11631483, 0.26321341, 0.12313238, 0.08812366, 0.1415349 ,\n",
       "       0.18285256, 0.06710778, 0.21495913, 0.37105306, 0.04626111,\n",
       "       0.75766275, 0.04787369, 0.1070851 , 0.02164198, 0.04358852,\n",
       "              nan, 0.3139739 , 0.42907544, 0.02179502, 0.07037642,\n",
       "       0.04303452,        nan, 0.10865433, 0.16458301, 0.51502429,\n",
       "       1.64167024, 1.21682615, 1.61960244, 1.33938144, 2.42376304,\n",
       "       4.67052311, 8.21572542, 8.51924438, 3.35423369, 5.7508871 ,\n",
       "       7.69687258, 3.70744639, 2.32738676, 3.93213239, 1.97099173,\n",
       "       0.65732223, 2.38663307, 3.20710381, 1.58944225, 1.56538724,\n",
       "       0.99597243, 0.51948527, 0.89283317,        nan, 0.62700798,\n",
       "       0.04265179, 0.02398981, 0.34405556, 0.13181187, 0.06850503,\n",
       "       0.0209979 , 0.04538686, 0.67101023, 0.13789091, 0.26101567,\n",
       "       0.14860209, 0.66249177, 0.1943501 , 0.10959634, 0.16501236,\n",
       "       0.19993671, 0.02342567, 0.04191899, 0.09267382, 0.27730354])"
      ]
     },
     "execution_count": 146,
     "metadata": {},
     "output_type": "execute_result"
    }
   ],
   "source": [
    "flux"
   ]
  },
  {
   "cell_type": "code",
   "execution_count": 95,
   "metadata": {},
   "outputs": [
    {
     "data": {
      "text/plain": [
       "0.0033274595807597507"
      ]
     },
     "execution_count": 95,
     "metadata": {},
     "output_type": "execute_result"
    }
   ],
   "source": [
    "np.nanmin(flux_err)"
   ]
  },
  {
   "cell_type": "code",
   "execution_count": 147,
   "metadata": {},
   "outputs": [],
   "source": [
    "sp = pyspeckit.Spectrum(xarr=vel, data=flux, error=flux_err, xarrkwargs={'unit':'km/s'}, unit='mJy')\n",
    "    "
   ]
  },
  {
   "cell_type": "code",
   "execution_count": 115,
   "metadata": {},
   "outputs": [
    {
     "data": {
      "text/plain": [
       "<Spectrum object named  over spectral range -679.97 : 903.56 km / s and flux range = [0.0, 8.5] mJy at 0x7f88d126804>"
      ]
     },
     "execution_count": 115,
     "metadata": {},
     "output_type": "execute_result"
    }
   ],
   "source": [
    "sp"
   ]
  },
  {
   "cell_type": "code",
   "execution_count": 148,
   "metadata": {},
   "outputs": [],
   "source": [
    "guesses = [5, 10., 5., 12, 150., 3., 10, 220., 2., 8, 400., 10.]\n",
    "sp.specfit.multifit(guesses=guesses, negamp=False, renormalize='auto')\n"
   ]
  },
  {
   "cell_type": "code",
   "execution_count": 149,
   "metadata": {},
   "outputs": [],
   "source": [
    "integral, error = sp.specfit.integral(direct=False, return_error=True)\n",
    "    "
   ]
  },
  {
   "cell_type": "code",
   "execution_count": 150,
   "metadata": {},
   "outputs": [
    {
     "data": {
      "text/plain": [
       "1169.6920963893306"
      ]
     },
     "execution_count": 150,
     "metadata": {},
     "output_type": "execute_result"
    }
   ],
   "source": [
    "integral"
   ]
  },
  {
   "cell_type": "code",
   "execution_count": 151,
   "metadata": {},
   "outputs": [
    {
     "data": {
      "text/plain": [
       "283474786689.161"
      ]
     },
     "execution_count": 151,
     "metadata": {},
     "output_type": "execute_result"
    }
   ],
   "source": [
    "error"
   ]
  },
  {
   "cell_type": "code",
   "execution_count": 122,
   "metadata": {},
   "outputs": [
    {
     "data": {
      "text/latex": [
       "$34.566767 \\; \\mathrm{\\frac{km\\,mJy}{s}}$"
      ],
      "text/plain": [
       "<Quantity 34.56676723 km mJy / s>"
      ]
     },
     "execution_count": 122,
     "metadata": {},
     "output_type": "execute_result"
    }
   ],
   "source": [
    "dx = spectral_axis[1] - spectral_axis[0]\n",
    "np.sqrt(np.sum(flux_err**2)) * dx * u.mJy"
   ]
  },
  {
   "cell_type": "code",
   "execution_count": 25,
   "metadata": {},
   "outputs": [
    {
     "data": {
      "text/latex": [
       "$10.022848 \\; \\mathrm{\\frac{km}{s}}$"
      ],
      "text/plain": [
       "<Quantity 10.02284826 km / s>"
      ]
     },
     "execution_count": 25,
     "metadata": {},
     "output_type": "execute_result"
    }
   ],
   "source": [
    "spectral_axis[1] - spectral_axis[0]"
   ]
  },
  {
   "cell_type": "code",
   "execution_count": 22,
   "metadata": {},
   "outputs": [
    {
     "data": {
      "text/plain": [
       "array([0.35066562, 0.21290414, 0.19859127, 0.13418328, 0.12523774,\n",
       "       0.31846171, 0.19680215, 0.35245478, 0.24331902, 0.24152991,\n",
       "       0.30951612, 0.45085585, 0.32740721, 0.27910125, 0.20574771,\n",
       "       0.49200538, 0.34172012, 0.31309435, 0.29162501, 0.48305982,\n",
       "       0.47232519, 0.51347469, 0.5385222 , 0.78899774, 0.62797777,\n",
       "       0.60650846, 0.55283518, 0.5582025 , 0.40076076, 0.58861735,\n",
       "       0.76395017, 0.71564422, 0.84088196, 0.78005221, 0.49379451,\n",
       "       0.57788269, 0.30057057, 0.76573924, 0.5689371 , 0.75858284,\n",
       "       0.7013313 , 0.55104599, 0.77468489, 0.45622318, 0.7621611 ,\n",
       "       1.06452079, 0.79436507, 0.98222168, 1.28279231, 1.01621472,\n",
       "       0.90350077, 0.83730364, 0.6261887 , 0.89992257, 0.87487506,\n",
       "       0.728168  , 0.86056214, 0.51884208, 0.51884208, 0.74069179,\n",
       "       0.49200538, 0.80509973, 0.47948162, 0.66197087, 0.56535896,\n",
       "       0.48484895, 0.64229063, 0.69596403, 0.64586889, 0.54746785,\n",
       "       0.60650846, 0.67628379, 0.28983591, 0.71385509, 0.53315493,\n",
       "       0.84267103, 0.73353527, 0.54567872, 0.35066565, 0.45801228,\n",
       "       0.59040642, 0.40076076, 0.5582025 , 0.32561811, 0.45085585,\n",
       "       0.31309435, 0.52420935, 0.34350922, 0.30057054, 0.26121014,\n",
       "       0.45443405, 0.30414877, 0.48127075, 0.36497854, 0.26299927,\n",
       "       0.23079525, 0.40612812, 0.44012122, 0.25226458, 0.33277457,\n",
       "       0.36855676])"
      ]
     },
     "execution_count": 22,
     "metadata": {},
     "output_type": "execute_result"
    }
   ],
   "source": [
    "flux_err"
   ]
  },
  {
   "cell_type": "code",
   "execution_count": 23,
   "metadata": {},
   "outputs": [
    {
     "data": {
      "text/plain": [
       "array([ 1.92374294,  1.07294577,  0.95759449,  0.65309979,  0.60084247,\n",
       "        1.82076485,  1.05006108,  1.98279112,  1.51153514,  1.29099656,\n",
       "        1.71271828,  2.8521677 ,  2.3468819 ,  1.85985537,  0.9697632 ,\n",
       "        2.98996828,  1.97861693,  1.5568299 ,  1.74903683,  3.15140723,\n",
       "        2.68277712,  3.17891967,  4.37519047,  5.39514422,  5.96332317,\n",
       "        9.48415231,  6.09631697,  5.4973769 ,  3.33853299,  4.01864527,\n",
       "        6.06564619,  5.75260911,  7.18136691,  5.24562877,  3.10110883,\n",
       "        4.28058533,  1.95331266,  5.14454767,  4.79106791,  5.68709476,\n",
       "        5.913537  ,  4.27166605,  6.19000709,  3.15633882,  5.66832256,\n",
       "        8.49467237,  7.30882492,  9.18320566, 10.90923883,  8.99095181,\n",
       "        8.23755004,  6.62336219,  6.24983944,  7.78068881,  6.56463625,\n",
       "        5.25392964,  5.64734172,  3.76139348,  4.23506135,  5.00754779,\n",
       "        3.1157874 ,  5.95005322,  3.08213569,  4.42572124,  4.07014089,\n",
       "        3.08800396,  4.42270702,  4.49243328,  4.03638696,  3.70147568,\n",
       "        3.8569828 ,  4.75451583,  1.87181588,  5.1720445 ,  3.56480898,\n",
       "        5.29016368,  5.09519782,  4.24831035,  2.13617878,  2.84263818,\n",
       "        3.32734268,  2.8690577 ,  3.2070044 ,  2.155683  ,  2.58541666,\n",
       "        1.81594421,  3.21900821,  2.09187903,  1.67100679,  1.75995287,\n",
       "        2.91365944,  1.72423769,  2.56506237,  2.30712141,  1.41094916,\n",
       "        1.15414569,  2.26942636,  2.56938138,  1.26521965,  2.24406924,\n",
       "        2.26685498])"
      ]
     },
     "execution_count": 23,
     "metadata": {},
     "output_type": "execute_result"
    }
   ],
   "source": [
    "cubespec_Jy.to(u.mJy).value"
   ]
  },
  {
   "cell_type": "code",
   "execution_count": null,
   "metadata": {},
   "outputs": [],
   "source": []
  },
  {
   "cell_type": "code",
   "execution_count": 106,
   "metadata": {},
   "outputs": [],
   "source": [
    "err_jy_beam = np.full(len(cubespec), cube_rms) * cube_rms.unit"
   ]
  },
  {
   "cell_type": "code",
   "execution_count": 107,
   "metadata": {},
   "outputs": [
    {
     "data": {
      "text/latex": [
       "$[0.00059605675,~0.00053772092,~0.00056623761,~\\dots,~0.00053640653,~0.00072122464,~0.00065781496] \\; \\mathrm{\\frac{Jy}{beam}}$"
      ],
      "text/plain": [
       "<OneDSpectrum [0.00059606,0.00053772,0.00056624,0.00048515,0.00058542,\n",
       "               0.00051844,0.00057243,0.00057647,0.00065089,0.00063003,\n",
       "               0.00064304,0.0005254 ,0.00060893,0.00057796,0.00053747,\n",
       "               0.00056767,0.00053815,0.00057612,0.00055083,0.00055492,\n",
       "               0.00062296,0.00064335,0.00056354,0.00056484,0.00048718,\n",
       "               0.00060237,0.00056918,0.0006612 ,0.00054764,0.00055472,\n",
       "               0.0006335 ,0.00055452,0.00053972,0.000577  ,0.00057372,\n",
       "               0.00053247,0.00050745,0.00057471,0.00053316,0.00059394,\n",
       "               0.00055042,0.00057869,0.0005533 ,0.00062666,0.00047809,\n",
       "               0.00062243,0.00052472,0.00053842,0.00050744,0.0005537 ,\n",
       "               0.00062136,0.00056297,0.00051793,0.00065892,0.00063875,\n",
       "               0.00059985,0.00048992,0.00048373,0.00053664,0.00058673,\n",
       "               0.00053899,0.00051571,0.00052055,0.00051311,0.00061148,\n",
       "               0.00057065,0.00060167,0.0006644 ,0.00057166,0.00059182,\n",
       "               0.00067658,0.00076663,0.00071269,0.0005041 ,0.00064995,\n",
       "               0.00061926,0.0005318 ,0.00064144,0.00069773,0.00060747,\n",
       "               0.00066213,0.00086892,0.00073133,0.00101561,0.00167242,\n",
       "               0.00117939,0.00105329,0.00089095,0.00073018,0.00084917,\n",
       "               0.00085971,0.00091339,0.00071921,0.00067167,0.00079222,\n",
       "               0.00069504,0.00071854,0.00090064,0.00080181,0.0009018 ,\n",
       "               0.00082907,0.00085458,0.00073993,0.00079541,0.00085345,\n",
       "               0.00098404,0.00099993,0.00090954,0.00094625,0.00097511,\n",
       "               0.00084602,0.00106745,0.00092469,0.00080251,0.00077168,\n",
       "               0.00070185,0.00077535,0.00087299,0.00072306,0.0006773 ,\n",
       "               0.00079042,0.00068749,0.00071504,0.00076996,0.00068117,\n",
       "               0.00073645,0.00069037,0.00066839,0.0007231 ,0.00068014,\n",
       "               0.0007519 ,0.00069071,0.00077488,0.0007151 ,0.00067142,\n",
       "               0.00074289,0.00083265,0.00065152,0.00066379,0.00060274,\n",
       "               0.00076566,0.00061446,0.00070804,0.00061331,0.00062031,\n",
       "               0.00065675,0.0006513 ,0.00059459,0.0007206 ,0.00068573,\n",
       "               0.00060631,0.00057002,0.00067606,0.00057377,0.00053483,\n",
       "               0.00059764,0.00062437,0.00053641,0.00072122,0.00065781] Jy / beam>"
      ]
     },
     "execution_count": 107,
     "metadata": {},
     "output_type": "execute_result"
    }
   ],
   "source": [
    "cubespec "
   ]
  },
  {
   "cell_type": "code",
   "execution_count": 108,
   "metadata": {},
   "outputs": [
    {
     "data": {
      "text/latex": [
       "$[0.00013167835,~0.00013167835,~0.00013167835,~\\dots,~0.00013167835,~0.00013167835,~0.00013167835] \\; \\mathrm{\\frac{Jy}{beam}}$"
      ],
      "text/plain": [
       "<Quantity [0.00013168, 0.00013168, 0.00013168, 0.00013168, 0.00013168,\n",
       "           0.00013168, 0.00013168, 0.00013168, 0.00013168, 0.00013168,\n",
       "           0.00013168, 0.00013168, 0.00013168, 0.00013168, 0.00013168,\n",
       "           0.00013168, 0.00013168, 0.00013168, 0.00013168, 0.00013168,\n",
       "           0.00013168, 0.00013168, 0.00013168, 0.00013168, 0.00013168,\n",
       "           0.00013168, 0.00013168, 0.00013168, 0.00013168, 0.00013168,\n",
       "           0.00013168, 0.00013168, 0.00013168, 0.00013168, 0.00013168,\n",
       "           0.00013168, 0.00013168, 0.00013168, 0.00013168, 0.00013168,\n",
       "           0.00013168, 0.00013168, 0.00013168, 0.00013168, 0.00013168,\n",
       "           0.00013168, 0.00013168, 0.00013168, 0.00013168, 0.00013168,\n",
       "           0.00013168, 0.00013168, 0.00013168, 0.00013168, 0.00013168,\n",
       "           0.00013168, 0.00013168, 0.00013168, 0.00013168, 0.00013168,\n",
       "           0.00013168, 0.00013168, 0.00013168, 0.00013168, 0.00013168,\n",
       "           0.00013168, 0.00013168, 0.00013168, 0.00013168, 0.00013168,\n",
       "           0.00013168, 0.00013168, 0.00013168, 0.00013168, 0.00013168,\n",
       "           0.00013168, 0.00013168, 0.00013168, 0.00013168, 0.00013168,\n",
       "           0.00013168, 0.00013168, 0.00013168, 0.00013168, 0.00013168,\n",
       "           0.00013168, 0.00013168, 0.00013168, 0.00013168, 0.00013168,\n",
       "           0.00013168, 0.00013168, 0.00013168, 0.00013168, 0.00013168,\n",
       "           0.00013168, 0.00013168, 0.00013168, 0.00013168, 0.00013168,\n",
       "           0.00013168, 0.00013168, 0.00013168, 0.00013168, 0.00013168,\n",
       "           0.00013168, 0.00013168, 0.00013168, 0.00013168, 0.00013168,\n",
       "           0.00013168, 0.00013168, 0.00013168, 0.00013168, 0.00013168,\n",
       "           0.00013168, 0.00013168, 0.00013168, 0.00013168, 0.00013168,\n",
       "           0.00013168, 0.00013168, 0.00013168, 0.00013168, 0.00013168,\n",
       "           0.00013168, 0.00013168, 0.00013168, 0.00013168, 0.00013168,\n",
       "           0.00013168, 0.00013168, 0.00013168, 0.00013168, 0.00013168,\n",
       "           0.00013168, 0.00013168, 0.00013168, 0.00013168, 0.00013168,\n",
       "           0.00013168, 0.00013168, 0.00013168, 0.00013168, 0.00013168,\n",
       "           0.00013168, 0.00013168, 0.00013168, 0.00013168, 0.00013168,\n",
       "           0.00013168, 0.00013168, 0.00013168, 0.00013168, 0.00013168,\n",
       "           0.00013168, 0.00013168, 0.00013168, 0.00013168, 0.00013168] Jy / beam>"
      ]
     },
     "execution_count": 108,
     "metadata": {},
     "output_type": "execute_result"
    }
   ],
   "source": [
    "err_jy_beam.to(u.Jy/u.beam)\n"
   ]
  },
  {
   "cell_type": "code",
   "execution_count": 40,
   "metadata": {},
   "outputs": [
    {
     "data": {
      "text/latex": [
       "$[0.0019237429,~0.0010729458,~0.00095759449,~\\dots,~0.0012652196,~0.0022440692,~0.002266855] \\; \\mathrm{Jy}$"
      ],
      "text/plain": [
       "<OneDSpectrum [0.00192374,0.00107295,0.00095759,0.0006531 ,0.00060084,\n",
       "               0.00182076,0.00105006,0.00198279,0.00151154,0.001291  ,\n",
       "               0.00171272,0.00285217,0.00234688,0.00185986,0.00096976,\n",
       "               0.00298997,0.00197862,0.00155683,0.00174904,0.00315141,\n",
       "               0.00268278,0.00317892,0.00437519,0.00539514,0.00596332,\n",
       "               0.00948415,0.00609632,0.00549738,0.00333853,0.00401865,\n",
       "               0.00606565,0.00575261,0.00718137,0.00524563,0.00310111,\n",
       "               0.00428059,0.00195331,0.00514455,0.00479107,0.00568709,\n",
       "               0.00591354,0.00427167,0.00619001,0.00315634,0.00566832,\n",
       "               0.00849467,0.00730882,0.00918321,0.01090924,0.00899095,\n",
       "               0.00823755,0.00662336,0.00624984,0.00778069,0.00656464,\n",
       "               0.00525393,0.00564734,0.00376139,0.00423506,0.00500755,\n",
       "               0.00311579,0.00595005,0.00308214,0.00442572,0.00407014,\n",
       "               0.003088  ,0.00442271,0.00449243,0.00403639,0.00370148,\n",
       "               0.00385698,0.00475452,0.00187182,0.00517204,0.00356481,\n",
       "               0.00529016,0.0050952 ,0.00424831,0.00213618,0.00284264,\n",
       "               0.00332734,0.00286906,0.003207  ,0.00215568,0.00258542,\n",
       "               0.00181594,0.00321901,0.00209188,0.00167101,0.00175995,\n",
       "               0.00291366,0.00172424,0.00256506,0.00230712,0.00141095,\n",
       "               0.00115415,0.00226943,0.00256938,0.00126522,0.00224407,\n",
       "               0.00226685] Jy>"
      ]
     },
     "execution_count": 40,
     "metadata": {},
     "output_type": "execute_result"
    }
   ],
   "source": [
    "cubespec_Jy"
   ]
  },
  {
   "cell_type": "code",
   "execution_count": 50,
   "metadata": {},
   "outputs": [
    {
     "data": {
      "text/latex": [
       "$[0.00066886578,~0.00040609711,~0.00037879647,~\\dots,~0.00048117389,~0.00063474002,~0.00070299164] \\; \\mathrm{Jy}$"
      ],
      "text/plain": [
       "<OneDSpectrum [0.00066887,0.0004061 ,0.0003788 ,0.00025594,0.00023888,\n",
       "               0.00060744,0.00037538,0.00067228,0.00046411,0.0004607 ,\n",
       "               0.00059038,0.00085997,0.0006245 ,0.00053236,0.00039245,\n",
       "               0.00093846,0.0006518 ,0.0005972 ,0.00055625,0.0009214 ,\n",
       "               0.00090092,0.00097941,0.00102719,0.00150495,0.00119782,\n",
       "               0.00115686,0.00105449,0.00106473,0.00076442,0.00112274,\n",
       "               0.00145717,0.00136503,0.00160391,0.00148789,0.00094187,\n",
       "               0.00110226,0.00057331,0.00146058,0.0010852 ,0.00144693,\n",
       "               0.00133773,0.00105107,0.00147765,0.00087021,0.00145376,\n",
       "               0.00203049,0.00151519,0.00187351,0.00244682,0.00193835,\n",
       "               0.00172335,0.00159709,0.0011944 ,0.00171653,0.00166875,\n",
       "               0.00138892,0.00164145,0.00098965,0.00098965,0.00141281,\n",
       "               0.00093846,0.00153566,0.00091457,0.00126265,0.00107838,\n",
       "               0.00092481,0.00122512,0.00132749,0.00123194,0.00104425,\n",
       "               0.00115686,0.00128996,0.00055284,0.00136162,0.00101695,\n",
       "               0.00160733,0.00139916,0.00104084,0.00066887,0.00087362,\n",
       "               0.00112615,0.00076442,0.00106473,0.00062109,0.00085997,\n",
       "               0.0005972 ,0.00099989,0.00065522,0.00057331,0.00049824,\n",
       "               0.0008668 ,0.00058014,0.00091798,0.00069617,0.00050165,\n",
       "               0.00044022,0.00077466,0.00083949,0.00048117,0.00063474,\n",
       "               0.00070299] Jy>"
      ]
     },
     "execution_count": 50,
     "metadata": {},
     "output_type": "execute_result"
    }
   ],
   "source": [
    "err_jy"
   ]
  },
  {
   "cell_type": "code",
   "execution_count": 109,
   "metadata": {},
   "outputs": [
    {
     "data": {
      "text/latex": [
       "$[0.22091579,~0.24488232,~0.23254964,~\\dots,~0.2454824,~0.18257606,~0.20017536] \\; \\mathrm{}$"
      ],
      "text/plain": [
       "<OneDSpectrum [0.2209158 ,0.24488232,0.23254964,0.27141914,0.22493131,\n",
       "               0.25398743,0.23003405,0.22842154,0.2023051 ,0.2090021 ,\n",
       "               0.20477362,0.25062594,0.21624663,0.22783308,0.24499711,\n",
       "               0.23196486,0.24468723,0.22856243,0.23905261,0.23729296,\n",
       "               0.21137364,0.2046771 ,0.23366408,0.23312591,0.27028725,\n",
       "               0.21860002,0.23134586,0.19915164,0.24044488,0.23737656,\n",
       "               0.20785946,0.23746222,0.24397685,0.22821315,0.22951858,\n",
       "               0.24729498,0.2594878 ,0.22912157,0.24697867,0.22170243,\n",
       "               0.23923175,0.22754589,0.23798926,0.21012777,0.27542692,\n",
       "               0.21155526,0.2509493 ,0.24456519,0.25949427,0.23781694,\n",
       "               0.21192096,0.23389861,0.25424   ,0.19984095,0.20615166,\n",
       "               0.21951783,0.26877335,0.27221537,0.2453765 ,0.22442754,\n",
       "               0.24430723,0.2553339 ,0.25295824,0.2566283 ,0.21534428,\n",
       "               0.23075189,0.21885496,0.19819276,0.23034343,0.22249861,\n",
       "               0.1946223 ,0.17176196,0.18476196,0.26121572,0.20259713,\n",
       "               0.21263696,0.24760763,0.20528433,0.18872368,0.21676366,\n",
       "               0.19887008,0.15154327,0.18005395,0.129654  ,0.07873508,\n",
       "               0.11164983,0.12501618,0.14779492,0.18033639,0.15506648,\n",
       "               0.15316597,0.14416434,0.1830864 ,0.19604656,0.16621357,\n",
       "               0.18945438,0.18325831,0.14620489,0.16422623,0.14601783,\n",
       "               0.15882562,0.15408625,0.17796054,0.16554733,0.15428989,\n",
       "               0.1338143 ,0.13168769,0.14477444,0.13915853,0.13503939,\n",
       "               0.15564474,0.12335772,0.14240232,0.16408366,0.1706386 ,\n",
       "               0.18761525,0.16983077,0.15083614,0.1821136 ,0.19441602,\n",
       "               0.16659379,0.1915359 ,0.18415554,0.17101915,0.1933119 ,\n",
       "               0.17880243,0.19073707,0.19700694,0.18210156,0.19360614,\n",
       "               0.1751268 ,0.1906422 ,0.16993302,0.18413958,0.19611867,\n",
       "               0.1772515 ,0.15814328,0.20210898,0.19837435,0.21846583,\n",
       "               0.17197917,0.2143    ,0.18597461,0.2147025 ,0.21227688,\n",
       "               0.2004992 ,0.20217702,0.22146147,0.18273382,0.1920269 ,\n",
       "               0.21717954,0.23100507,0.19477215,0.22949491,0.24620463,\n",
       "               0.22033167,0.2108986 ,0.2454824 ,0.18257606,0.20017536]>"
      ]
     },
     "execution_count": 109,
     "metadata": {},
     "output_type": "execute_result"
    }
   ],
   "source": [
    "err_jy/cubespec_Jy"
   ]
  },
  {
   "cell_type": "code",
   "execution_count": 18,
   "metadata": {},
   "outputs": [
    {
     "data": {
      "text/latex": [
       "Beam: BMAJ=$0.7903183682286^{''}$ BMIN=$0.6675476993852401^{''}$ BPA=$5.332444825441^\\circ$"
      ],
      "text/plain": [
       "Beam: BMAJ=0.7903183682286 arcsec BMIN=0.6675476993852401 arcsec BPA=5.332444825441 deg"
      ]
     },
     "execution_count": 18,
     "metadata": {},
     "output_type": "execute_result"
    }
   ],
   "source": [
    "totcubes[1]."
   ]
  },
  {
   "cell_type": "code",
   "execution_count": 94,
   "metadata": {},
   "outputs": [
    {
     "data": {
      "text/latex": [
       "$0.00083913521 \\; \\mathrm{\\frac{Jy}{beam}}$"
      ],
      "text/plain": [
       "<Quantity 0.00083914 Jy / beam>"
      ]
     },
     "execution_count": 94,
     "metadata": {},
     "output_type": "execute_result"
    }
   ],
   "source": [
    "stats"
   ]
  },
  {
   "cell_type": "code",
   "execution_count": 96,
   "metadata": {},
   "outputs": [
    {
     "data": {
      "text/latex": [
       "$0.00083913521 \\; \\mathrm{\\frac{Jy}{beam}}$"
      ],
      "text/plain": [
       "<Quantity 0.00083914 Jy / beam>"
      ]
     },
     "execution_count": 96,
     "metadata": {},
     "output_type": "execute_result"
    }
   ],
   "source": [
    "stats"
   ]
  }
 ],
 "metadata": {
  "kernelspec": {
   "display_name": "Python 3.8.12 ('base')",
   "language": "python",
   "name": "python3"
  },
  "language_info": {
   "codemirror_mode": {
    "name": "ipython",
    "version": 3
   },
   "file_extension": ".py",
   "mimetype": "text/x-python",
   "name": "python",
   "nbconvert_exporter": "python",
   "pygments_lexer": "ipython3",
   "version": "3.8.13"
  },
  "vscode": {
   "interpreter": {
    "hash": "bab9909fa8cbd9df8527ebea13a688d7db2f84a2f9272dffc6345519c385bbf9"
   }
  }
 },
 "nbformat": 4,
 "nbformat_minor": 4
}
